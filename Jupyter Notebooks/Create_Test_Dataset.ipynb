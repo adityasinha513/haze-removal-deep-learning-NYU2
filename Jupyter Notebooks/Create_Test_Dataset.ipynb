{
 "cells": [
  {
   "cell_type": "code",
   "execution_count": 1,
   "metadata": {
    "colab": {},
    "colab_type": "code",
    "id": "Kzvg1tQ26Mo7"
   },
   "outputs": [],
   "source": [
    "import os\n",
    "from PIL import Image\n",
    "import matplotlib.pyplot as plt"
   ]
  },
  {
   "cell_type": "code",
   "execution_count": 3,
   "metadata": {},
   "outputs": [
    {
     "name": "stdout",
     "output_type": "stream",
     "text": [
      "🔍 Checking dataset structure...\n",
      "📁 Found subdirectories: ['00000_colors.png', '00000_depth.png', '00001_colors.png', '00001_depth.png', '00008_colors.png', '00008_depth.png', '00013_colors.png', '00013_depth.png', '00014_colors.png', '00014_depth.png', '00015_colors.png', '00015_depth.png', '00016_colors.png', '00016_depth.png', '00017_colors.png', '00017_depth.png', '00020_colors.png', '00020_depth.png', '00027_colors.png', '00027_depth.png', '00028_colors.png', '00028_depth.png', '00029_colors.png', '00029_depth.png', '00030_colors.png', '00030_depth.png', '00031_colors.png', '00031_depth.png', '00032_colors.png', '00032_depth.png', '00033_colors.png', '00033_depth.png', '00034_colors.png', '00034_depth.png', '00035_colors.png', '00035_depth.png', '00036_colors.png', '00036_depth.png', '00037_colors.png', '00037_depth.png', '00038_colors.png', '00038_depth.png', '00039_colors.png', '00039_depth.png', '00040_colors.png', '00040_depth.png', '00041_colors.png', '00041_depth.png', '00042_colors.png', '00042_depth.png', '00045_colors.png', '00045_depth.png', '00046_colors.png', '00046_depth.png', '00055_colors.png', '00055_depth.png', '00056_colors.png', '00056_depth.png', '00058_colors.png', '00058_depth.png', '00059_colors.png', '00059_depth.png', '00060_colors.png', '00060_depth.png', '00061_colors.png', '00061_depth.png', '00062_colors.png', '00062_depth.png', '00075_colors.png', '00075_depth.png', '00076_colors.png', '00076_depth.png', '00077_colors.png', '00077_depth.png', '00078_colors.png', '00078_depth.png', '00083_colors.png', '00083_depth.png', '00084_colors.png', '00084_depth.png', '00085_colors.png', '00085_depth.png', '00086_colors.png', '00086_depth.png', '00087_colors.png', '00087_depth.png', '00088_colors.png', '00088_depth.png', '00089_colors.png', '00089_depth.png', '00090_colors.png', '00090_depth.png', '00116_colors.png', '00116_depth.png', '00117_colors.png', '00117_depth.png', '00118_colors.png', '00118_depth.png', '00124_colors.png', '00124_depth.png', '00125_colors.png', '00125_depth.png', '00126_colors.png', '00126_depth.png', '00127_colors.png', '00127_depth.png', '00128_colors.png', '00128_depth.png', '00130_colors.png', '00130_depth.png', '00131_colors.png', '00131_depth.png', '00132_colors.png', '00132_depth.png', '00133_colors.png', '00133_depth.png', '00136_colors.png', '00136_depth.png', '00152_colors.png', '00152_depth.png', '00153_colors.png', '00153_depth.png', '00154_colors.png', '00154_depth.png', '00166_colors.png', '00166_depth.png', '00167_colors.png', '00167_depth.png', '00168_colors.png', '00168_depth.png', '00170_colors.png', '00170_depth.png', '00171_colors.png', '00171_depth.png', '00172_colors.png', '00172_depth.png', '00173_colors.png', '00173_depth.png', '00174_colors.png', '00174_depth.png', '00175_colors.png', '00175_depth.png', '00179_colors.png', '00179_depth.png', '00180_colors.png', '00180_depth.png', '00181_colors.png', '00181_depth.png', '00182_colors.png', '00182_depth.png', '00183_colors.png', '00183_depth.png', '00184_colors.png', '00184_depth.png', '00185_colors.png', '00185_depth.png', '00186_colors.png', '00186_depth.png', '00187_colors.png', '00187_depth.png', '00188_colors.png', '00188_depth.png', '00189_colors.png', '00189_depth.png', '00190_colors.png', '00190_depth.png', '00191_colors.png', '00191_depth.png', '00192_colors.png', '00192_depth.png', '00193_colors.png', '00193_depth.png', '00194_colors.png', '00194_depth.png', '00195_colors.png', '00195_depth.png', '00196_colors.png', '00196_depth.png', '00197_colors.png', '00197_depth.png', '00198_colors.png', '00198_depth.png', '00199_colors.png', '00199_depth.png', '00200_colors.png', '00200_depth.png', '00201_colors.png', '00201_depth.png', '00206_colors.png', '00206_depth.png', '00207_colors.png', '00207_depth.png', '00208_colors.png', '00208_depth.png', '00209_colors.png', '00209_depth.png', '00210_colors.png', '00210_depth.png', '00211_colors.png', '00211_depth.png', '00219_colors.png', '00219_depth.png', '00220_colors.png', '00220_depth.png', '00221_colors.png', '00221_depth.png', '00249_colors.png', '00249_depth.png', '00263_colors.png', '00263_depth.png', '00270_colors.png', '00270_depth.png', '00271_colors.png', '00271_depth.png', '00272_colors.png', '00272_depth.png', '00278_colors.png', '00278_depth.png', '00279_colors.png', '00279_depth.png', '00280_colors.png', '00280_depth.png', '00281_colors.png', '00281_depth.png', '00282_colors.png', '00282_depth.png', '00283_colors.png', '00283_depth.png', '00284_colors.png', '00284_depth.png', '00295_colors.png', '00295_depth.png', '00296_colors.png', '00296_depth.png', '00297_colors.png', '00297_depth.png', '00298_colors.png', '00298_depth.png', '00299_colors.png', '00299_depth.png', '00300_colors.png', '00300_depth.png', '00301_colors.png', '00301_depth.png', '00309_colors.png', '00309_depth.png', '00310_colors.png', '00310_depth.png', '00311_colors.png', '00311_depth.png', '00314_colors.png', '00314_depth.png', '00315_colors.png', '00315_depth.png', '00316_colors.png', '00316_depth.png', '00324_colors.png', '00324_depth.png', '00325_colors.png', '00325_depth.png', '00326_colors.png', '00326_depth.png', '00327_colors.png', '00327_depth.png', '00328_colors.png', '00328_depth.png', '00329_colors.png', '00329_depth.png', '00330_colors.png', '00330_depth.png', '00331_colors.png', '00331_depth.png', '00332_colors.png', '00332_depth.png', '00333_colors.png', '00333_depth.png', '00334_colors.png', '00334_depth.png', '00350_colors.png', '00350_depth.png', '00351_colors.png', '00351_depth.png', '00354_colors.png', '00354_depth.png', '00355_colors.png', '00355_depth.png', '00356_colors.png', '00356_depth.png', '00357_colors.png', '00357_depth.png', '00358_colors.png', '00358_depth.png', '00359_colors.png', '00359_depth.png', '00360_colors.png', '00360_depth.png', '00361_colors.png', '00361_depth.png', '00362_colors.png', '00362_depth.png', '00363_colors.png', '00363_depth.png', '00383_colors.png', '00383_depth.png', '00384_colors.png', '00384_depth.png', '00385_colors.png', '00385_depth.png', '00386_colors.png', '00386_depth.png', '00387_colors.png', '00387_depth.png', '00388_colors.png', '00388_depth.png', '00389_colors.png', '00389_depth.png', '00394_colors.png', '00394_depth.png', '00395_colors.png', '00395_depth.png', '00396_colors.png', '00396_depth.png', '00410_colors.png', '00410_depth.png', '00411_colors.png', '00411_depth.png', '00412_colors.png', '00412_depth.png', '00413_colors.png', '00413_depth.png', '00429_colors.png', '00429_depth.png', '00430_colors.png', '00430_depth.png', '00431_colors.png', '00431_depth.png', '00432_colors.png', '00432_depth.png', '00433_colors.png', '00433_depth.png', '00434_colors.png', '00434_depth.png', '00440_colors.png', '00440_depth.png', '00441_colors.png', '00441_depth.png', '00442_colors.png', '00442_depth.png', '00443_colors.png', '00443_depth.png', '00444_colors.png', '00444_depth.png', '00445_colors.png', '00445_depth.png', '00446_colors.png', '00446_depth.png', '00447_colors.png', '00447_depth.png', '00461_colors.png', '00461_depth.png', '00462_colors.png', '00462_depth.png', '00463_colors.png', '00463_depth.png', '00464_colors.png', '00464_depth.png', '00465_colors.png', '00465_depth.png', '00468_colors.png', '00468_depth.png', '00469_colors.png', '00469_depth.png', '00470_colors.png', '00470_depth.png', '00471_colors.png', '00471_depth.png', '00472_colors.png', '00472_depth.png', '00473_colors.png', '00473_depth.png', '00474_colors.png', '00474_depth.png', '00475_colors.png', '00475_depth.png', '00476_colors.png', '00476_depth.png', '00507_colors.png', '00507_depth.png', '00508_colors.png', '00508_depth.png', '00509_colors.png', '00509_depth.png', '00510_colors.png', '00510_depth.png', '00511_colors.png', '00511_depth.png', '00512_colors.png', '00512_depth.png', '00514_colors.png', '00514_depth.png', '00515_colors.png', '00515_depth.png', '00516_colors.png', '00516_depth.png', '00517_colors.png', '00517_depth.png', '00518_colors.png', '00518_depth.png', '00519_colors.png', '00519_depth.png', '00520_colors.png', '00520_depth.png', '00521_colors.png', '00521_depth.png', '00522_colors.png', '00522_depth.png', '00523_colors.png', '00523_depth.png', '00524_colors.png', '00524_depth.png', '00525_colors.png', '00525_depth.png', '00530_colors.png', '00530_depth.png', '00531_colors.png', '00531_depth.png', '00532_colors.png', '00532_depth.png', '00536_colors.png', '00536_depth.png', '00537_colors.png', '00537_depth.png', '00538_colors.png', '00538_depth.png', '00548_colors.png', '00548_depth.png', '00549_colors.png', '00549_depth.png', '00550_colors.png', '00550_depth.png', '00554_colors.png', '00554_depth.png', '00555_colors.png', '00555_depth.png', '00556_colors.png', '00556_depth.png', '00557_colors.png', '00557_depth.png', '00558_colors.png', '00558_depth.png', '00559_colors.png', '00559_depth.png', '00560_colors.png', '00560_depth.png', '00561_colors.png', '00561_depth.png', '00562_colors.png', '00562_depth.png', '00563_colors.png', '00563_depth.png', '00564_colors.png', '00564_depth.png', '00565_colors.png', '00565_depth.png', '00566_colors.png', '00566_depth.png', '00567_colors.png', '00567_depth.png', '00568_colors.png', '00568_depth.png', '00569_colors.png', '00569_depth.png', '00570_colors.png', '00570_depth.png', '00578_colors.png', '00578_depth.png', '00579_colors.png', '00579_depth.png', '00580_colors.png', '00580_depth.png', '00581_colors.png', '00581_depth.png', '00582_colors.png', '00582_depth.png', '00590_colors.png', '00590_depth.png', '00591_colors.png', '00591_depth.png', '00592_colors.png', '00592_depth.png', '00593_colors.png', '00593_depth.png', '00602_colors.png', '00602_depth.png', '00603_colors.png', '00603_depth.png', '00604_colors.png', '00604_depth.png', '00605_colors.png', '00605_depth.png', '00606_colors.png', '00606_depth.png', '00611_colors.png', '00611_depth.png', '00612_colors.png', '00612_depth.png', '00616_colors.png', '00616_depth.png', '00617_colors.png', '00617_depth.png', '00618_colors.png', '00618_depth.png', '00619_colors.png', '00619_depth.png', '00620_colors.png', '00620_depth.png', '00632_colors.png', '00632_depth.png', '00633_colors.png', '00633_depth.png', '00634_colors.png', '00634_depth.png', '00635_colors.png', '00635_depth.png', '00636_colors.png', '00636_depth.png', '00637_colors.png', '00637_depth.png', '00643_colors.png', '00643_depth.png', '00644_colors.png', '00644_depth.png', '00649_colors.png', '00649_depth.png', '00650_colors.png', '00650_depth.png', '00655_colors.png', '00655_depth.png', '00656_colors.png', '00656_depth.png', '00657_colors.png', '00657_depth.png', '00662_colors.png', '00662_depth.png', '00663_colors.png', '00663_depth.png', '00667_colors.png', '00667_depth.png', '00668_colors.png', '00668_depth.png', '00669_colors.png', '00669_depth.png', '00670_colors.png', '00670_depth.png', '00671_colors.png', '00671_depth.png', '00672_colors.png', '00672_depth.png', '00675_colors.png', '00675_depth.png', '00676_colors.png', '00676_depth.png', '00677_colors.png', '00677_depth.png', '00678_colors.png', '00678_depth.png', '00679_colors.png', '00679_depth.png', '00680_colors.png', '00680_depth.png', '00685_colors.png', '00685_depth.png', '00686_colors.png', '00686_depth.png', '00687_colors.png', '00687_depth.png', '00688_colors.png', '00688_depth.png', '00689_colors.png', '00689_depth.png', '00692_colors.png', '00692_depth.png', '00693_colors.png', '00693_depth.png', '00696_colors.png', '00696_depth.png', '00697_colors.png', '00697_depth.png', '00698_colors.png', '00698_depth.png', '00705_colors.png', '00705_depth.png', '00706_colors.png', '00706_depth.png', '00707_colors.png', '00707_depth.png', '00708_colors.png', '00708_depth.png', '00709_colors.png', '00709_depth.png', '00710_colors.png', '00710_depth.png', '00711_colors.png', '00711_depth.png', '00712_colors.png', '00712_depth.png', '00716_colors.png', '00716_depth.png', '00717_colors.png', '00717_depth.png', '00723_colors.png', '00723_depth.png', '00724_colors.png', '00724_depth.png', '00725_colors.png', '00725_depth.png', '00726_colors.png', '00726_depth.png', '00727_colors.png', '00727_depth.png', '00730_colors.png', '00730_depth.png', '00731_colors.png', '00731_depth.png', '00732_colors.png', '00732_depth.png', '00733_colors.png', '00733_depth.png', '00742_colors.png', '00742_depth.png', '00743_colors.png', '00743_depth.png', '00758_colors.png', '00758_depth.png', '00759_colors.png', '00759_depth.png', '00760_colors.png', '00760_depth.png', '00761_colors.png', '00761_depth.png', '00762_colors.png', '00762_depth.png', '00763_colors.png', '00763_depth.png', '00764_colors.png', '00764_depth.png', '00765_colors.png', '00765_depth.png', '00766_colors.png', '00766_depth.png', '00767_colors.png', '00767_depth.png', '00768_colors.png', '00768_depth.png', '00769_colors.png', '00769_depth.png', '00770_colors.png', '00770_depth.png', '00771_colors.png', '00771_depth.png', '00772_colors.png', '00772_depth.png', '00773_colors.png', '00773_depth.png', '00774_colors.png', '00774_depth.png', '00775_colors.png', '00775_depth.png', '00776_colors.png', '00776_depth.png', '00777_colors.png', '00777_depth.png', '00778_colors.png', '00778_depth.png', '00779_colors.png', '00779_depth.png', '00780_colors.png', '00780_depth.png', '00781_colors.png', '00781_depth.png', '00782_colors.png', '00782_depth.png', '00783_colors.png', '00783_depth.png', '00784_colors.png', '00784_depth.png', '00785_colors.png', '00785_depth.png', '00786_colors.png', '00786_depth.png', '00799_colors.png', '00799_depth.png', '00800_colors.png', '00800_depth.png', '00801_colors.png', '00801_depth.png', '00802_colors.png', '00802_depth.png', '00803_colors.png', '00803_depth.png', '00809_colors.png', '00809_depth.png', '00810_colors.png', '00810_depth.png', '00811_colors.png', '00811_depth.png', '00812_colors.png', '00812_depth.png', '00813_colors.png', '00813_depth.png', '00820_colors.png', '00820_depth.png', '00821_colors.png', '00821_depth.png', '00822_colors.png', '00822_depth.png', '00832_colors.png', '00832_depth.png', '00833_colors.png', '00833_depth.png', '00834_colors.png', '00834_depth.png', '00835_colors.png', '00835_depth.png', '00836_colors.png', '00836_depth.png', '00837_colors.png', '00837_depth.png', '00838_colors.png', '00838_depth.png', '00839_colors.png', '00839_depth.png', '00840_colors.png', '00840_depth.png', '00841_colors.png', '00841_depth.png', '00842_colors.png', '00842_depth.png', '00843_colors.png', '00843_depth.png', '00844_colors.png', '00844_depth.png', '00845_colors.png', '00845_depth.png', '00849_colors.png', '00849_depth.png', '00850_colors.png', '00850_depth.png', '00851_colors.png', '00851_depth.png', '00856_colors.png', '00856_depth.png', '00857_colors.png', '00857_depth.png', '00858_colors.png', '00858_depth.png', '00859_colors.png', '00859_depth.png', '00860_colors.png', '00860_depth.png', '00861_colors.png', '00861_depth.png', '00868_colors.png', '00868_depth.png', '00869_colors.png', '00869_depth.png', '00870_colors.png', '00870_depth.png', '00905_colors.png', '00905_depth.png', '00906_colors.png', '00906_depth.png', '00907_colors.png', '00907_depth.png', '00916_colors.png', '00916_depth.png', '00917_colors.png', '00917_depth.png', '00918_colors.png', '00918_depth.png', '00925_colors.png', '00925_depth.png', '00926_colors.png', '00926_depth.png', '00927_colors.png', '00927_depth.png', '00931_colors.png', '00931_depth.png', '00932_colors.png', '00932_depth.png', '00933_colors.png', '00933_depth.png', '00934_colors.png', '00934_depth.png', '00944_colors.png', '00944_depth.png', '00945_colors.png', '00945_depth.png', '00946_colors.png', '00946_depth.png', '00958_colors.png', '00958_depth.png', '00959_colors.png', '00959_depth.png', '00960_colors.png', '00960_depth.png', '00961_colors.png', '00961_depth.png', '00964_colors.png', '00964_depth.png', '00965_colors.png', '00965_depth.png', '00966_colors.png', '00966_depth.png', '00969_colors.png', '00969_depth.png', '00970_colors.png', '00970_depth.png', '00971_colors.png', '00971_depth.png', '00972_colors.png', '00972_depth.png', '00973_colors.png', '00973_depth.png', '00974_colors.png', '00974_depth.png', '00975_colors.png', '00975_depth.png', '00976_colors.png', '00976_depth.png', '00990_colors.png', '00990_depth.png', '00991_colors.png', '00991_depth.png', '00992_colors.png', '00992_depth.png', '00993_colors.png', '00993_depth.png', '00994_colors.png', '00994_depth.png', '01000_colors.png', '01000_depth.png', '01001_colors.png', '01001_depth.png', '01002_colors.png', '01002_depth.png', '01003_colors.png', '01003_depth.png', '01009_colors.png', '01009_depth.png', '01010_colors.png', '01010_depth.png', '01011_colors.png', '01011_depth.png', '01020_colors.png', '01020_depth.png', '01021_colors.png', '01021_depth.png', '01022_colors.png', '01022_depth.png', '01031_colors.png', '01031_depth.png', '01032_colors.png', '01032_depth.png', '01033_colors.png', '01033_depth.png', '01037_colors.png', '01037_depth.png', '01038_colors.png', '01038_depth.png', '01047_colors.png', '01047_depth.png', '01048_colors.png', '01048_depth.png', '01051_colors.png', '01051_depth.png', '01052_colors.png', '01052_depth.png', '01056_colors.png', '01056_depth.png', '01057_colors.png', '01057_depth.png', '01074_colors.png', '01074_depth.png', '01075_colors.png', '01075_depth.png', '01076_colors.png', '01076_depth.png', '01077_colors.png', '01077_depth.png', '01078_colors.png', '01078_depth.png', '01079_colors.png', '01079_depth.png', '01080_colors.png', '01080_depth.png', '01081_colors.png', '01081_depth.png', '01082_colors.png', '01082_depth.png', '01083_colors.png', '01083_depth.png', '01087_colors.png', '01087_depth.png', '01088_colors.png', '01088_depth.png', '01089_colors.png', '01089_depth.png', '01090_colors.png', '01090_depth.png', '01091_colors.png', '01091_depth.png', '01092_colors.png', '01092_depth.png', '01093_colors.png', '01093_depth.png', '01094_colors.png', '01094_depth.png', '01095_colors.png', '01095_depth.png', '01097_colors.png', '01097_depth.png', '01098_colors.png', '01098_depth.png', '01099_colors.png', '01099_depth.png', '01100_colors.png', '01100_depth.png', '01101_colors.png', '01101_depth.png', '01102_colors.png', '01102_depth.png', '01103_colors.png', '01103_depth.png', '01105_colors.png', '01105_depth.png', '01106_colors.png', '01106_depth.png', '01107_colors.png', '01107_depth.png', '01108_colors.png', '01108_depth.png', '01116_colors.png', '01116_depth.png', '01117_colors.png', '01117_depth.png', '01118_colors.png', '01118_depth.png', '01122_colors.png', '01122_depth.png', '01123_colors.png', '01123_depth.png', '01124_colors.png', '01124_depth.png', '01125_colors.png', '01125_depth.png', '01126_colors.png', '01126_depth.png', '01127_colors.png', '01127_depth.png', '01128_colors.png', '01128_depth.png', '01129_colors.png', '01129_depth.png', '01130_colors.png', '01130_depth.png', '01134_colors.png', '01134_depth.png', '01135_colors.png', '01135_depth.png', '01143_colors.png', '01143_depth.png', '01144_colors.png', '01144_depth.png', '01145_colors.png', '01145_depth.png', '01146_colors.png', '01146_depth.png', '01147_colors.png', '01147_depth.png', '01148_colors.png', '01148_depth.png', '01149_colors.png', '01149_depth.png', '01150_colors.png', '01150_depth.png', '01151_colors.png', '01151_depth.png', '01152_colors.png', '01152_depth.png', '01153_colors.png', '01153_depth.png', '01154_colors.png', '01154_depth.png', '01155_colors.png', '01155_depth.png', '01156_colors.png', '01156_depth.png', '01157_colors.png', '01157_depth.png', '01161_colors.png', '01161_depth.png', '01162_colors.png', '01162_depth.png', '01163_colors.png', '01163_depth.png', '01164_colors.png', '01164_depth.png', '01165_colors.png', '01165_depth.png', '01166_colors.png', '01166_depth.png', '01169_colors.png', '01169_depth.png', '01170_colors.png', '01170_depth.png', '01173_colors.png', '01173_depth.png', '01174_colors.png', '01174_depth.png', '01175_colors.png', '01175_depth.png', '01178_colors.png', '01178_depth.png', '01179_colors.png', '01179_depth.png', '01180_colors.png', '01180_depth.png', '01181_colors.png', '01181_depth.png', '01182_colors.png', '01182_depth.png', '01183_colors.png', '01183_depth.png', '01191_colors.png', '01191_depth.png', '01192_colors.png', '01192_depth.png', '01193_colors.png', '01193_depth.png', '01194_colors.png', '01194_depth.png', '01195_colors.png', '01195_depth.png', '01200_colors.png', '01200_depth.png', '01201_colors.png', '01201_depth.png', '01202_colors.png', '01202_depth.png', '01203_colors.png', '01203_depth.png', '01204_colors.png', '01204_depth.png', '01205_colors.png', '01205_depth.png', '01206_colors.png', '01206_depth.png', '01207_colors.png', '01207_depth.png', '01208_colors.png', '01208_depth.png', '01209_colors.png', '01209_depth.png', '01210_colors.png', '01210_depth.png', '01211_colors.png', '01211_depth.png', '01215_colors.png', '01215_depth.png', '01216_colors.png', '01216_depth.png', '01217_colors.png', '01217_depth.png', '01218_colors.png', '01218_depth.png', '01219_colors.png', '01219_depth.png', '01225_colors.png', '01225_depth.png', '01226_colors.png', '01226_depth.png', '01227_colors.png', '01227_depth.png', '01228_colors.png', '01228_depth.png', '01229_colors.png', '01229_depth.png', '01232_colors.png', '01232_depth.png', '01233_colors.png', '01233_depth.png', '01234_colors.png', '01234_depth.png', '01246_colors.png', '01246_depth.png', '01247_colors.png', '01247_depth.png', '01248_colors.png', '01248_depth.png', '01249_colors.png', '01249_depth.png', '01253_colors.png', '01253_depth.png', '01254_colors.png', '01254_depth.png', '01255_colors.png', '01255_depth.png', '01256_colors.png', '01256_depth.png', '01257_colors.png', '01257_depth.png', '01258_colors.png', '01258_depth.png', '01259_colors.png', '01259_depth.png', '01260_colors.png', '01260_depth.png', '01261_colors.png', '01261_depth.png', '01262_colors.png', '01262_depth.png', '01263_colors.png', '01263_depth.png', '01264_colors.png', '01264_depth.png', '01274_colors.png', '01274_depth.png', '01275_colors.png', '01275_depth.png', '01276_colors.png', '01276_depth.png', '01277_colors.png', '01277_depth.png', '01278_colors.png', '01278_depth.png', '01279_colors.png', '01279_depth.png', '01284_colors.png', '01284_depth.png', '01285_colors.png', '01285_depth.png', '01286_colors.png', '01286_depth.png', '01287_colors.png', '01287_depth.png', '01288_colors.png', '01288_depth.png', '01289_colors.png', '01289_depth.png', '01290_colors.png', '01290_depth.png', '01291_colors.png', '01291_depth.png', '01292_colors.png', '01292_depth.png', '01293_colors.png', '01293_depth.png', '01294_colors.png', '01294_depth.png', '01296_colors.png', '01296_depth.png', '01297_colors.png', '01297_depth.png', '01298_colors.png', '01298_depth.png', '01301_colors.png', '01301_depth.png', '01302_colors.png', '01302_depth.png', '01303_colors.png', '01303_depth.png', '01304_colors.png', '01304_depth.png', '01305_colors.png', '01305_depth.png', '01306_colors.png', '01306_depth.png', '01307_colors.png', '01307_depth.png', '01313_colors.png', '01313_depth.png', '01314_colors.png', '01314_depth.png', '01328_colors.png', '01328_depth.png', '01329_colors.png', '01329_depth.png', '01330_colors.png', '01330_depth.png', '01331_colors.png', '01331_depth.png', '01334_colors.png', '01334_depth.png', '01335_colors.png', '01335_depth.png', '01336_colors.png', '01336_depth.png', '01337_colors.png', '01337_depth.png', '01338_colors.png', '01338_depth.png', '01339_colors.png', '01339_depth.png', '01346_colors.png', '01346_depth.png', '01347_colors.png', '01347_depth.png', '01348_colors.png', '01348_depth.png', '01352_colors.png', '01352_depth.png', '01353_colors.png', '01353_depth.png', '01354_colors.png', '01354_depth.png', '01355_colors.png', '01355_depth.png', '01363_colors.png', '01363_depth.png', '01364_colors.png', '01364_depth.png', '01367_colors.png', '01367_depth.png', '01368_colors.png', '01368_depth.png', '01383_colors.png', '01383_depth.png', '01384_colors.png', '01384_depth.png', '01385_colors.png', '01385_depth.png', '01386_colors.png', '01386_depth.png', '01387_colors.png', '01387_depth.png', '01388_colors.png', '01388_depth.png', '01389_colors.png', '01389_depth.png', '01390_colors.png', '01390_depth.png', '01393_colors.png', '01393_depth.png', '01394_colors.png', '01394_depth.png', '01395_colors.png', '01395_depth.png', '01396_colors.png', '01396_depth.png', '01397_colors.png', '01397_depth.png', '01398_colors.png', '01398_depth.png', '01399_colors.png', '01399_depth.png', '01400_colors.png', '01400_depth.png', '01406_colors.png', '01406_depth.png', '01407_colors.png', '01407_depth.png', '01408_colors.png', '01408_depth.png', '01409_colors.png', '01409_depth.png', '01410_colors.png', '01410_depth.png', '01411_colors.png', '01411_depth.png', '01412_colors.png', '01412_depth.png', '01413_colors.png', '01413_depth.png', '01420_colors.png', '01420_depth.png', '01421_colors.png', '01421_depth.png', '01422_colors.png', '01422_depth.png', '01423_colors.png', '01423_depth.png', '01429_colors.png', '01429_depth.png', '01430_colors.png', '01430_depth.png', '01431_colors.png', '01431_depth.png', '01432_colors.png', '01432_depth.png', '01440_colors.png', '01440_depth.png', '01441_colors.png', '01441_depth.png', '01442_colors.png', '01442_depth.png', '01443_colors.png', '01443_depth.png', '01444_colors.png', '01444_depth.png', '01445_colors.png', '01445_depth.png', '01446_colors.png', '01446_depth.png', '01447_colors.png', '01447_depth.png', '01448_colors.png', '01448_depth.png']\n"
     ]
    },
    {
     "ename": "ValueError",
     "evalue": "❌ Dataset structure is incorrect! Expected 'images' and 'hazy' folders.",
     "output_type": "error",
     "traceback": [
      "\u001b[1;31m---------------------------------------------------------------------------\u001b[0m",
      "\u001b[1;31mValueError\u001b[0m                                Traceback (most recent call last)",
      "Cell \u001b[1;32mIn[3], line 21\u001b[0m\n\u001b[0;32m     19\u001b[0m     hazy_path \u001b[38;5;241m=\u001b[39m os\u001b[38;5;241m.\u001b[39mpath\u001b[38;5;241m.\u001b[39mjoin(base_path, \u001b[38;5;124m\"\u001b[39m\u001b[38;5;124mhazy\u001b[39m\u001b[38;5;124m\"\u001b[39m)\n\u001b[0;32m     20\u001b[0m \u001b[38;5;28;01melse\u001b[39;00m:\n\u001b[1;32m---> 21\u001b[0m     \u001b[38;5;28;01mraise\u001b[39;00m \u001b[38;5;167;01mValueError\u001b[39;00m(\u001b[38;5;124m\"\u001b[39m\u001b[38;5;124m❌ Dataset structure is incorrect! Expected \u001b[39m\u001b[38;5;124m'\u001b[39m\u001b[38;5;124mimages\u001b[39m\u001b[38;5;124m'\u001b[39m\u001b[38;5;124m and \u001b[39m\u001b[38;5;124m'\u001b[39m\u001b[38;5;124mhazy\u001b[39m\u001b[38;5;124m'\u001b[39m\u001b[38;5;124m folders.\u001b[39m\u001b[38;5;124m\"\u001b[39m)\n\u001b[0;32m     23\u001b[0m \u001b[38;5;66;03m# Verify paths exist\u001b[39;00m\n\u001b[0;32m     24\u001b[0m \u001b[38;5;28;01mif\u001b[39;00m \u001b[38;5;129;01mnot\u001b[39;00m os\u001b[38;5;241m.\u001b[39mpath\u001b[38;5;241m.\u001b[39mexists(clear_path) \u001b[38;5;129;01mor\u001b[39;00m \u001b[38;5;129;01mnot\u001b[39;00m os\u001b[38;5;241m.\u001b[39mpath\u001b[38;5;241m.\u001b[39mexists(hazy_path):\n",
      "\u001b[1;31mValueError\u001b[0m: ❌ Dataset structure is incorrect! Expected 'images' and 'hazy' folders."
     ]
    }
   ],
   "source": [
    "import os\n",
    "from PIL import Image\n",
    "import matplotlib.pyplot as plt\n",
    "\n",
    "# Set your dataset path\n",
    "base_path = r\"C:\\Users\\adity\\OneDrive\\Desktop\\211172\\Major Project\\nyu_data\\data\\nyu2_test\"\n",
    "\n",
    "# Check available subdirectories\n",
    "print(\"🔍 Checking dataset structure...\")\n",
    "subdirs = os.listdir(base_path)\n",
    "print(\"📁 Found subdirectories:\", subdirs)\n",
    "\n",
    "# Determine actual dataset folders\n",
    "if \"images\" in subdirs and \"hazy\" in subdirs:\n",
    "    clear_path = os.path.join(base_path, \"images\")  # Ground truth images\n",
    "    hazy_path = os.path.join(base_path, \"hazy\")  # Hazy images\n",
    "elif \"clear\" in subdirs and \"hazy\" in subdirs:\n",
    "    clear_path = os.path.join(base_path, \"clear\")  # Alternative GT folder name\n",
    "    hazy_path = os.path.join(base_path, \"hazy\")\n",
    "else:\n",
    "    raise ValueError(\"❌ Dataset structure is incorrect! Expected 'images' and 'hazy' folders.\")\n",
    "\n",
    "# Verify paths exist\n",
    "if not os.path.exists(clear_path) or not os.path.exists(hazy_path):\n",
    "    raise ValueError(\"❌ Invalid dataset path! Please check the folder structure.\")\n",
    "\n",
    "# List and sort image files\n",
    "clear_images = sorted(os.listdir(clear_path))\n",
    "hazy_images = sorted(os.listdir(hazy_path))\n",
    "\n",
    "# Ensure dataset is not empty\n",
    "if len(clear_images) == 0 or len(hazy_images) == 0:\n",
    "    raise ValueError(\"⚠️ No images found in the dataset! Check your dataset folders.\")\n",
    "\n",
    "print(f\"✅ Found {len(clear_images)} clear images and {len(hazy_images)} hazy images.\")\n",
    "\n",
    "# Display a sample image pair\n",
    "sample_index = 0  # Change this index to preview different images\n",
    "clear_sample = Image.open(os.path.join(clear_path, clear_images[sample_index]))\n",
    "hazy_sample = Image.open(os.path.join(hazy_path, hazy_images[sample_index]))\n",
    "\n",
    "# Show images\n",
    "fig, axs = plt.subplots(1, 2, figsize=(10, 5))\n",
    "axs[0].imshow(clear_sample)\n",
    "axs[0].set_title(\"Clear Image (Ground Truth)\")\n",
    "axs[0].axis(\"off\")\n",
    "\n",
    "axs[1].imshow(hazy_sample)\n",
    "axs[1].set_title(\"Hazy Image\")\n",
    "axs[1].axis(\"off\")\n",
    "\n",
    "plt.show()\n"
   ]
  },
  {
   "cell_type": "markdown",
   "metadata": {
    "colab_type": "text",
    "id": "_eI1fcthaNT9"
   },
   "source": [
    "### OTS"
   ]
  },
  {
   "cell_type": "code",
   "execution_count": 9,
   "metadata": {},
   "outputs": [
    {
     "name": "stdout",
     "output_type": "stream",
     "text": [
      "✅ Base dataset path exists: C:\\Users\\adity\\OneDrive\\Desktop\\211172\\Major Project\\nyu_data\\data\\nyu2_test\n",
      "📂 Available folders: ['00000_colors.png', '00000_depth.png', '00001_colors.png', '00001_depth.png', '00008_colors.png', '00008_depth.png', '00013_colors.png', '00013_depth.png', '00014_colors.png', '00014_depth.png', '00015_colors.png', '00015_depth.png', '00016_colors.png', '00016_depth.png', '00017_colors.png', '00017_depth.png', '00020_colors.png', '00020_depth.png', '00027_colors.png', '00027_depth.png', '00028_colors.png', '00028_depth.png', '00029_colors.png', '00029_depth.png', '00030_colors.png', '00030_depth.png', '00031_colors.png', '00031_depth.png', '00032_colors.png', '00032_depth.png', '00033_colors.png', '00033_depth.png', '00034_colors.png', '00034_depth.png', '00035_colors.png', '00035_depth.png', '00036_colors.png', '00036_depth.png', '00037_colors.png', '00037_depth.png', '00038_colors.png', '00038_depth.png', '00039_colors.png', '00039_depth.png', '00040_colors.png', '00040_depth.png', '00041_colors.png', '00041_depth.png', '00042_colors.png', '00042_depth.png', '00045_colors.png', '00045_depth.png', '00046_colors.png', '00046_depth.png', '00055_colors.png', '00055_depth.png', '00056_colors.png', '00056_depth.png', '00058_colors.png', '00058_depth.png', '00059_colors.png', '00059_depth.png', '00060_colors.png', '00060_depth.png', '00061_colors.png', '00061_depth.png', '00062_colors.png', '00062_depth.png', '00075_colors.png', '00075_depth.png', '00076_colors.png', '00076_depth.png', '00077_colors.png', '00077_depth.png', '00078_colors.png', '00078_depth.png', '00083_colors.png', '00083_depth.png', '00084_colors.png', '00084_depth.png', '00085_colors.png', '00085_depth.png', '00086_colors.png', '00086_depth.png', '00087_colors.png', '00087_depth.png', '00088_colors.png', '00088_depth.png', '00089_colors.png', '00089_depth.png', '00090_colors.png', '00090_depth.png', '00116_colors.png', '00116_depth.png', '00117_colors.png', '00117_depth.png', '00118_colors.png', '00118_depth.png', '00124_colors.png', '00124_depth.png', '00125_colors.png', '00125_depth.png', '00126_colors.png', '00126_depth.png', '00127_colors.png', '00127_depth.png', '00128_colors.png', '00128_depth.png', '00130_colors.png', '00130_depth.png', '00131_colors.png', '00131_depth.png', '00132_colors.png', '00132_depth.png', '00133_colors.png', '00133_depth.png', '00136_colors.png', '00136_depth.png', '00152_colors.png', '00152_depth.png', '00153_colors.png', '00153_depth.png', '00154_colors.png', '00154_depth.png', '00166_colors.png', '00166_depth.png', '00167_colors.png', '00167_depth.png', '00168_colors.png', '00168_depth.png', '00170_colors.png', '00170_depth.png', '00171_colors.png', '00171_depth.png', '00172_colors.png', '00172_depth.png', '00173_colors.png', '00173_depth.png', '00174_colors.png', '00174_depth.png', '00175_colors.png', '00175_depth.png', '00179_colors.png', '00179_depth.png', '00180_colors.png', '00180_depth.png', '00181_colors.png', '00181_depth.png', '00182_colors.png', '00182_depth.png', '00183_colors.png', '00183_depth.png', '00184_colors.png', '00184_depth.png', '00185_colors.png', '00185_depth.png', '00186_colors.png', '00186_depth.png', '00187_colors.png', '00187_depth.png', '00188_colors.png', '00188_depth.png', '00189_colors.png', '00189_depth.png', '00190_colors.png', '00190_depth.png', '00191_colors.png', '00191_depth.png', '00192_colors.png', '00192_depth.png', '00193_colors.png', '00193_depth.png', '00194_colors.png', '00194_depth.png', '00195_colors.png', '00195_depth.png', '00196_colors.png', '00196_depth.png', '00197_colors.png', '00197_depth.png', '00198_colors.png', '00198_depth.png', '00199_colors.png', '00199_depth.png', '00200_colors.png', '00200_depth.png', '00201_colors.png', '00201_depth.png', '00206_colors.png', '00206_depth.png', '00207_colors.png', '00207_depth.png', '00208_colors.png', '00208_depth.png', '00209_colors.png', '00209_depth.png', '00210_colors.png', '00210_depth.png', '00211_colors.png', '00211_depth.png', '00219_colors.png', '00219_depth.png', '00220_colors.png', '00220_depth.png', '00221_colors.png', '00221_depth.png', '00249_colors.png', '00249_depth.png', '00263_colors.png', '00263_depth.png', '00270_colors.png', '00270_depth.png', '00271_colors.png', '00271_depth.png', '00272_colors.png', '00272_depth.png', '00278_colors.png', '00278_depth.png', '00279_colors.png', '00279_depth.png', '00280_colors.png', '00280_depth.png', '00281_colors.png', '00281_depth.png', '00282_colors.png', '00282_depth.png', '00283_colors.png', '00283_depth.png', '00284_colors.png', '00284_depth.png', '00295_colors.png', '00295_depth.png', '00296_colors.png', '00296_depth.png', '00297_colors.png', '00297_depth.png', '00298_colors.png', '00298_depth.png', '00299_colors.png', '00299_depth.png', '00300_colors.png', '00300_depth.png', '00301_colors.png', '00301_depth.png', '00309_colors.png', '00309_depth.png', '00310_colors.png', '00310_depth.png', '00311_colors.png', '00311_depth.png', '00314_colors.png', '00314_depth.png', '00315_colors.png', '00315_depth.png', '00316_colors.png', '00316_depth.png', '00324_colors.png', '00324_depth.png', '00325_colors.png', '00325_depth.png', '00326_colors.png', '00326_depth.png', '00327_colors.png', '00327_depth.png', '00328_colors.png', '00328_depth.png', '00329_colors.png', '00329_depth.png', '00330_colors.png', '00330_depth.png', '00331_colors.png', '00331_depth.png', '00332_colors.png', '00332_depth.png', '00333_colors.png', '00333_depth.png', '00334_colors.png', '00334_depth.png', '00350_colors.png', '00350_depth.png', '00351_colors.png', '00351_depth.png', '00354_colors.png', '00354_depth.png', '00355_colors.png', '00355_depth.png', '00356_colors.png', '00356_depth.png', '00357_colors.png', '00357_depth.png', '00358_colors.png', '00358_depth.png', '00359_colors.png', '00359_depth.png', '00360_colors.png', '00360_depth.png', '00361_colors.png', '00361_depth.png', '00362_colors.png', '00362_depth.png', '00363_colors.png', '00363_depth.png', '00383_colors.png', '00383_depth.png', '00384_colors.png', '00384_depth.png', '00385_colors.png', '00385_depth.png', '00386_colors.png', '00386_depth.png', '00387_colors.png', '00387_depth.png', '00388_colors.png', '00388_depth.png', '00389_colors.png', '00389_depth.png', '00394_colors.png', '00394_depth.png', '00395_colors.png', '00395_depth.png', '00396_colors.png', '00396_depth.png', '00410_colors.png', '00410_depth.png', '00411_colors.png', '00411_depth.png', '00412_colors.png', '00412_depth.png', '00413_colors.png', '00413_depth.png', '00429_colors.png', '00429_depth.png', '00430_colors.png', '00430_depth.png', '00431_colors.png', '00431_depth.png', '00432_colors.png', '00432_depth.png', '00433_colors.png', '00433_depth.png', '00434_colors.png', '00434_depth.png', '00440_colors.png', '00440_depth.png', '00441_colors.png', '00441_depth.png', '00442_colors.png', '00442_depth.png', '00443_colors.png', '00443_depth.png', '00444_colors.png', '00444_depth.png', '00445_colors.png', '00445_depth.png', '00446_colors.png', '00446_depth.png', '00447_colors.png', '00447_depth.png', '00461_colors.png', '00461_depth.png', '00462_colors.png', '00462_depth.png', '00463_colors.png', '00463_depth.png', '00464_colors.png', '00464_depth.png', '00465_colors.png', '00465_depth.png', '00468_colors.png', '00468_depth.png', '00469_colors.png', '00469_depth.png', '00470_colors.png', '00470_depth.png', '00471_colors.png', '00471_depth.png', '00472_colors.png', '00472_depth.png', '00473_colors.png', '00473_depth.png', '00474_colors.png', '00474_depth.png', '00475_colors.png', '00475_depth.png', '00476_colors.png', '00476_depth.png', '00507_colors.png', '00507_depth.png', '00508_colors.png', '00508_depth.png', '00509_colors.png', '00509_depth.png', '00510_colors.png', '00510_depth.png', '00511_colors.png', '00511_depth.png', '00512_colors.png', '00512_depth.png', '00514_colors.png', '00514_depth.png', '00515_colors.png', '00515_depth.png', '00516_colors.png', '00516_depth.png', '00517_colors.png', '00517_depth.png', '00518_colors.png', '00518_depth.png', '00519_colors.png', '00519_depth.png', '00520_colors.png', '00520_depth.png', '00521_colors.png', '00521_depth.png', '00522_colors.png', '00522_depth.png', '00523_colors.png', '00523_depth.png', '00524_colors.png', '00524_depth.png', '00525_colors.png', '00525_depth.png', '00530_colors.png', '00530_depth.png', '00531_colors.png', '00531_depth.png', '00532_colors.png', '00532_depth.png', '00536_colors.png', '00536_depth.png', '00537_colors.png', '00537_depth.png', '00538_colors.png', '00538_depth.png', '00548_colors.png', '00548_depth.png', '00549_colors.png', '00549_depth.png', '00550_colors.png', '00550_depth.png', '00554_colors.png', '00554_depth.png', '00555_colors.png', '00555_depth.png', '00556_colors.png', '00556_depth.png', '00557_colors.png', '00557_depth.png', '00558_colors.png', '00558_depth.png', '00559_colors.png', '00559_depth.png', '00560_colors.png', '00560_depth.png', '00561_colors.png', '00561_depth.png', '00562_colors.png', '00562_depth.png', '00563_colors.png', '00563_depth.png', '00564_colors.png', '00564_depth.png', '00565_colors.png', '00565_depth.png', '00566_colors.png', '00566_depth.png', '00567_colors.png', '00567_depth.png', '00568_colors.png', '00568_depth.png', '00569_colors.png', '00569_depth.png', '00570_colors.png', '00570_depth.png', '00578_colors.png', '00578_depth.png', '00579_colors.png', '00579_depth.png', '00580_colors.png', '00580_depth.png', '00581_colors.png', '00581_depth.png', '00582_colors.png', '00582_depth.png', '00590_colors.png', '00590_depth.png', '00591_colors.png', '00591_depth.png', '00592_colors.png', '00592_depth.png', '00593_colors.png', '00593_depth.png', '00602_colors.png', '00602_depth.png', '00603_colors.png', '00603_depth.png', '00604_colors.png', '00604_depth.png', '00605_colors.png', '00605_depth.png', '00606_colors.png', '00606_depth.png', '00611_colors.png', '00611_depth.png', '00612_colors.png', '00612_depth.png', '00616_colors.png', '00616_depth.png', '00617_colors.png', '00617_depth.png', '00618_colors.png', '00618_depth.png', '00619_colors.png', '00619_depth.png', '00620_colors.png', '00620_depth.png', '00632_colors.png', '00632_depth.png', '00633_colors.png', '00633_depth.png', '00634_colors.png', '00634_depth.png', '00635_colors.png', '00635_depth.png', '00636_colors.png', '00636_depth.png', '00637_colors.png', '00637_depth.png', '00643_colors.png', '00643_depth.png', '00644_colors.png', '00644_depth.png', '00649_colors.png', '00649_depth.png', '00650_colors.png', '00650_depth.png', '00655_colors.png', '00655_depth.png', '00656_colors.png', '00656_depth.png', '00657_colors.png', '00657_depth.png', '00662_colors.png', '00662_depth.png', '00663_colors.png', '00663_depth.png', '00667_colors.png', '00667_depth.png', '00668_colors.png', '00668_depth.png', '00669_colors.png', '00669_depth.png', '00670_colors.png', '00670_depth.png', '00671_colors.png', '00671_depth.png', '00672_colors.png', '00672_depth.png', '00675_colors.png', '00675_depth.png', '00676_colors.png', '00676_depth.png', '00677_colors.png', '00677_depth.png', '00678_colors.png', '00678_depth.png', '00679_colors.png', '00679_depth.png', '00680_colors.png', '00680_depth.png', '00685_colors.png', '00685_depth.png', '00686_colors.png', '00686_depth.png', '00687_colors.png', '00687_depth.png', '00688_colors.png', '00688_depth.png', '00689_colors.png', '00689_depth.png', '00692_colors.png', '00692_depth.png', '00693_colors.png', '00693_depth.png', '00696_colors.png', '00696_depth.png', '00697_colors.png', '00697_depth.png', '00698_colors.png', '00698_depth.png', '00705_colors.png', '00705_depth.png', '00706_colors.png', '00706_depth.png', '00707_colors.png', '00707_depth.png', '00708_colors.png', '00708_depth.png', '00709_colors.png', '00709_depth.png', '00710_colors.png', '00710_depth.png', '00711_colors.png', '00711_depth.png', '00712_colors.png', '00712_depth.png', '00716_colors.png', '00716_depth.png', '00717_colors.png', '00717_depth.png', '00723_colors.png', '00723_depth.png', '00724_colors.png', '00724_depth.png', '00725_colors.png', '00725_depth.png', '00726_colors.png', '00726_depth.png', '00727_colors.png', '00727_depth.png', '00730_colors.png', '00730_depth.png', '00731_colors.png', '00731_depth.png', '00732_colors.png', '00732_depth.png', '00733_colors.png', '00733_depth.png', '00742_colors.png', '00742_depth.png', '00743_colors.png', '00743_depth.png', '00758_colors.png', '00758_depth.png', '00759_colors.png', '00759_depth.png', '00760_colors.png', '00760_depth.png', '00761_colors.png', '00761_depth.png', '00762_colors.png', '00762_depth.png', '00763_colors.png', '00763_depth.png', '00764_colors.png', '00764_depth.png', '00765_colors.png', '00765_depth.png', '00766_colors.png', '00766_depth.png', '00767_colors.png', '00767_depth.png', '00768_colors.png', '00768_depth.png', '00769_colors.png', '00769_depth.png', '00770_colors.png', '00770_depth.png', '00771_colors.png', '00771_depth.png', '00772_colors.png', '00772_depth.png', '00773_colors.png', '00773_depth.png', '00774_colors.png', '00774_depth.png', '00775_colors.png', '00775_depth.png', '00776_colors.png', '00776_depth.png', '00777_colors.png', '00777_depth.png', '00778_colors.png', '00778_depth.png', '00779_colors.png', '00779_depth.png', '00780_colors.png', '00780_depth.png', '00781_colors.png', '00781_depth.png', '00782_colors.png', '00782_depth.png', '00783_colors.png', '00783_depth.png', '00784_colors.png', '00784_depth.png', '00785_colors.png', '00785_depth.png', '00786_colors.png', '00786_depth.png', '00799_colors.png', '00799_depth.png', '00800_colors.png', '00800_depth.png', '00801_colors.png', '00801_depth.png', '00802_colors.png', '00802_depth.png', '00803_colors.png', '00803_depth.png', '00809_colors.png', '00809_depth.png', '00810_colors.png', '00810_depth.png', '00811_colors.png', '00811_depth.png', '00812_colors.png', '00812_depth.png', '00813_colors.png', '00813_depth.png', '00820_colors.png', '00820_depth.png', '00821_colors.png', '00821_depth.png', '00822_colors.png', '00822_depth.png', '00832_colors.png', '00832_depth.png', '00833_colors.png', '00833_depth.png', '00834_colors.png', '00834_depth.png', '00835_colors.png', '00835_depth.png', '00836_colors.png', '00836_depth.png', '00837_colors.png', '00837_depth.png', '00838_colors.png', '00838_depth.png', '00839_colors.png', '00839_depth.png', '00840_colors.png', '00840_depth.png', '00841_colors.png', '00841_depth.png', '00842_colors.png', '00842_depth.png', '00843_colors.png', '00843_depth.png', '00844_colors.png', '00844_depth.png', '00845_colors.png', '00845_depth.png', '00849_colors.png', '00849_depth.png', '00850_colors.png', '00850_depth.png', '00851_colors.png', '00851_depth.png', '00856_colors.png', '00856_depth.png', '00857_colors.png', '00857_depth.png', '00858_colors.png', '00858_depth.png', '00859_colors.png', '00859_depth.png', '00860_colors.png', '00860_depth.png', '00861_colors.png', '00861_depth.png', '00868_colors.png', '00868_depth.png', '00869_colors.png', '00869_depth.png', '00870_colors.png', '00870_depth.png', '00905_colors.png', '00905_depth.png', '00906_colors.png', '00906_depth.png', '00907_colors.png', '00907_depth.png', '00916_colors.png', '00916_depth.png', '00917_colors.png', '00917_depth.png', '00918_colors.png', '00918_depth.png', '00925_colors.png', '00925_depth.png', '00926_colors.png', '00926_depth.png', '00927_colors.png', '00927_depth.png', '00931_colors.png', '00931_depth.png', '00932_colors.png', '00932_depth.png', '00933_colors.png', '00933_depth.png', '00934_colors.png', '00934_depth.png', '00944_colors.png', '00944_depth.png', '00945_colors.png', '00945_depth.png', '00946_colors.png', '00946_depth.png', '00958_colors.png', '00958_depth.png', '00959_colors.png', '00959_depth.png', '00960_colors.png', '00960_depth.png', '00961_colors.png', '00961_depth.png', '00964_colors.png', '00964_depth.png', '00965_colors.png', '00965_depth.png', '00966_colors.png', '00966_depth.png', '00969_colors.png', '00969_depth.png', '00970_colors.png', '00970_depth.png', '00971_colors.png', '00971_depth.png', '00972_colors.png', '00972_depth.png', '00973_colors.png', '00973_depth.png', '00974_colors.png', '00974_depth.png', '00975_colors.png', '00975_depth.png', '00976_colors.png', '00976_depth.png', '00990_colors.png', '00990_depth.png', '00991_colors.png', '00991_depth.png', '00992_colors.png', '00992_depth.png', '00993_colors.png', '00993_depth.png', '00994_colors.png', '00994_depth.png', '01000_colors.png', '01000_depth.png', '01001_colors.png', '01001_depth.png', '01002_colors.png', '01002_depth.png', '01003_colors.png', '01003_depth.png', '01009_colors.png', '01009_depth.png', '01010_colors.png', '01010_depth.png', '01011_colors.png', '01011_depth.png', '01020_colors.png', '01020_depth.png', '01021_colors.png', '01021_depth.png', '01022_colors.png', '01022_depth.png', '01031_colors.png', '01031_depth.png', '01032_colors.png', '01032_depth.png', '01033_colors.png', '01033_depth.png', '01037_colors.png', '01037_depth.png', '01038_colors.png', '01038_depth.png', '01047_colors.png', '01047_depth.png', '01048_colors.png', '01048_depth.png', '01051_colors.png', '01051_depth.png', '01052_colors.png', '01052_depth.png', '01056_colors.png', '01056_depth.png', '01057_colors.png', '01057_depth.png', '01074_colors.png', '01074_depth.png', '01075_colors.png', '01075_depth.png', '01076_colors.png', '01076_depth.png', '01077_colors.png', '01077_depth.png', '01078_colors.png', '01078_depth.png', '01079_colors.png', '01079_depth.png', '01080_colors.png', '01080_depth.png', '01081_colors.png', '01081_depth.png', '01082_colors.png', '01082_depth.png', '01083_colors.png', '01083_depth.png', '01087_colors.png', '01087_depth.png', '01088_colors.png', '01088_depth.png', '01089_colors.png', '01089_depth.png', '01090_colors.png', '01090_depth.png', '01091_colors.png', '01091_depth.png', '01092_colors.png', '01092_depth.png', '01093_colors.png', '01093_depth.png', '01094_colors.png', '01094_depth.png', '01095_colors.png', '01095_depth.png', '01097_colors.png', '01097_depth.png', '01098_colors.png', '01098_depth.png', '01099_colors.png', '01099_depth.png', '01100_colors.png', '01100_depth.png', '01101_colors.png', '01101_depth.png', '01102_colors.png', '01102_depth.png', '01103_colors.png', '01103_depth.png', '01105_colors.png', '01105_depth.png', '01106_colors.png', '01106_depth.png', '01107_colors.png', '01107_depth.png', '01108_colors.png', '01108_depth.png', '01116_colors.png', '01116_depth.png', '01117_colors.png', '01117_depth.png', '01118_colors.png', '01118_depth.png', '01122_colors.png', '01122_depth.png', '01123_colors.png', '01123_depth.png', '01124_colors.png', '01124_depth.png', '01125_colors.png', '01125_depth.png', '01126_colors.png', '01126_depth.png', '01127_colors.png', '01127_depth.png', '01128_colors.png', '01128_depth.png', '01129_colors.png', '01129_depth.png', '01130_colors.png', '01130_depth.png', '01134_colors.png', '01134_depth.png', '01135_colors.png', '01135_depth.png', '01143_colors.png', '01143_depth.png', '01144_colors.png', '01144_depth.png', '01145_colors.png', '01145_depth.png', '01146_colors.png', '01146_depth.png', '01147_colors.png', '01147_depth.png', '01148_colors.png', '01148_depth.png', '01149_colors.png', '01149_depth.png', '01150_colors.png', '01150_depth.png', '01151_colors.png', '01151_depth.png', '01152_colors.png', '01152_depth.png', '01153_colors.png', '01153_depth.png', '01154_colors.png', '01154_depth.png', '01155_colors.png', '01155_depth.png', '01156_colors.png', '01156_depth.png', '01157_colors.png', '01157_depth.png', '01161_colors.png', '01161_depth.png', '01162_colors.png', '01162_depth.png', '01163_colors.png', '01163_depth.png', '01164_colors.png', '01164_depth.png', '01165_colors.png', '01165_depth.png', '01166_colors.png', '01166_depth.png', '01169_colors.png', '01169_depth.png', '01170_colors.png', '01170_depth.png', '01173_colors.png', '01173_depth.png', '01174_colors.png', '01174_depth.png', '01175_colors.png', '01175_depth.png', '01178_colors.png', '01178_depth.png', '01179_colors.png', '01179_depth.png', '01180_colors.png', '01180_depth.png', '01181_colors.png', '01181_depth.png', '01182_colors.png', '01182_depth.png', '01183_colors.png', '01183_depth.png', '01191_colors.png', '01191_depth.png', '01192_colors.png', '01192_depth.png', '01193_colors.png', '01193_depth.png', '01194_colors.png', '01194_depth.png', '01195_colors.png', '01195_depth.png', '01200_colors.png', '01200_depth.png', '01201_colors.png', '01201_depth.png', '01202_colors.png', '01202_depth.png', '01203_colors.png', '01203_depth.png', '01204_colors.png', '01204_depth.png', '01205_colors.png', '01205_depth.png', '01206_colors.png', '01206_depth.png', '01207_colors.png', '01207_depth.png', '01208_colors.png', '01208_depth.png', '01209_colors.png', '01209_depth.png', '01210_colors.png', '01210_depth.png', '01211_colors.png', '01211_depth.png', '01215_colors.png', '01215_depth.png', '01216_colors.png', '01216_depth.png', '01217_colors.png', '01217_depth.png', '01218_colors.png', '01218_depth.png', '01219_colors.png', '01219_depth.png', '01225_colors.png', '01225_depth.png', '01226_colors.png', '01226_depth.png', '01227_colors.png', '01227_depth.png', '01228_colors.png', '01228_depth.png', '01229_colors.png', '01229_depth.png', '01232_colors.png', '01232_depth.png', '01233_colors.png', '01233_depth.png', '01234_colors.png', '01234_depth.png', '01246_colors.png', '01246_depth.png', '01247_colors.png', '01247_depth.png', '01248_colors.png', '01248_depth.png', '01249_colors.png', '01249_depth.png', '01253_colors.png', '01253_depth.png', '01254_colors.png', '01254_depth.png', '01255_colors.png', '01255_depth.png', '01256_colors.png', '01256_depth.png', '01257_colors.png', '01257_depth.png', '01258_colors.png', '01258_depth.png', '01259_colors.png', '01259_depth.png', '01260_colors.png', '01260_depth.png', '01261_colors.png', '01261_depth.png', '01262_colors.png', '01262_depth.png', '01263_colors.png', '01263_depth.png', '01264_colors.png', '01264_depth.png', '01274_colors.png', '01274_depth.png', '01275_colors.png', '01275_depth.png', '01276_colors.png', '01276_depth.png', '01277_colors.png', '01277_depth.png', '01278_colors.png', '01278_depth.png', '01279_colors.png', '01279_depth.png', '01284_colors.png', '01284_depth.png', '01285_colors.png', '01285_depth.png', '01286_colors.png', '01286_depth.png', '01287_colors.png', '01287_depth.png', '01288_colors.png', '01288_depth.png', '01289_colors.png', '01289_depth.png', '01290_colors.png', '01290_depth.png', '01291_colors.png', '01291_depth.png', '01292_colors.png', '01292_depth.png', '01293_colors.png', '01293_depth.png', '01294_colors.png', '01294_depth.png', '01296_colors.png', '01296_depth.png', '01297_colors.png', '01297_depth.png', '01298_colors.png', '01298_depth.png', '01301_colors.png', '01301_depth.png', '01302_colors.png', '01302_depth.png', '01303_colors.png', '01303_depth.png', '01304_colors.png', '01304_depth.png', '01305_colors.png', '01305_depth.png', '01306_colors.png', '01306_depth.png', '01307_colors.png', '01307_depth.png', '01313_colors.png', '01313_depth.png', '01314_colors.png', '01314_depth.png', '01328_colors.png', '01328_depth.png', '01329_colors.png', '01329_depth.png', '01330_colors.png', '01330_depth.png', '01331_colors.png', '01331_depth.png', '01334_colors.png', '01334_depth.png', '01335_colors.png', '01335_depth.png', '01336_colors.png', '01336_depth.png', '01337_colors.png', '01337_depth.png', '01338_colors.png', '01338_depth.png', '01339_colors.png', '01339_depth.png', '01346_colors.png', '01346_depth.png', '01347_colors.png', '01347_depth.png', '01348_colors.png', '01348_depth.png', '01352_colors.png', '01352_depth.png', '01353_colors.png', '01353_depth.png', '01354_colors.png', '01354_depth.png', '01355_colors.png', '01355_depth.png', '01363_colors.png', '01363_depth.png', '01364_colors.png', '01364_depth.png', '01367_colors.png', '01367_depth.png', '01368_colors.png', '01368_depth.png', '01383_colors.png', '01383_depth.png', '01384_colors.png', '01384_depth.png', '01385_colors.png', '01385_depth.png', '01386_colors.png', '01386_depth.png', '01387_colors.png', '01387_depth.png', '01388_colors.png', '01388_depth.png', '01389_colors.png', '01389_depth.png', '01390_colors.png', '01390_depth.png', '01393_colors.png', '01393_depth.png', '01394_colors.png', '01394_depth.png', '01395_colors.png', '01395_depth.png', '01396_colors.png', '01396_depth.png', '01397_colors.png', '01397_depth.png', '01398_colors.png', '01398_depth.png', '01399_colors.png', '01399_depth.png', '01400_colors.png', '01400_depth.png', '01406_colors.png', '01406_depth.png', '01407_colors.png', '01407_depth.png', '01408_colors.png', '01408_depth.png', '01409_colors.png', '01409_depth.png', '01410_colors.png', '01410_depth.png', '01411_colors.png', '01411_depth.png', '01412_colors.png', '01412_depth.png', '01413_colors.png', '01413_depth.png', '01420_colors.png', '01420_depth.png', '01421_colors.png', '01421_depth.png', '01422_colors.png', '01422_depth.png', '01423_colors.png', '01423_depth.png', '01429_colors.png', '01429_depth.png', '01430_colors.png', '01430_depth.png', '01431_colors.png', '01431_depth.png', '01432_colors.png', '01432_depth.png', '01440_colors.png', '01440_depth.png', '01441_colors.png', '01441_depth.png', '01442_colors.png', '01442_depth.png', '01443_colors.png', '01443_depth.png', '01444_colors.png', '01444_depth.png', '01445_colors.png', '01445_depth.png', '01446_colors.png', '01446_depth.png', '01447_colors.png', '01447_depth.png', '01448_colors.png', '01448_depth.png', 'test']\n"
     ]
    }
   ],
   "source": [
    "import os\n",
    "\n",
    "base_path = r\"C:\\Users\\adity\\OneDrive\\Desktop\\211172\\Major Project\\nyu_data\\data\\nyu2_test\"\n",
    "\n",
    "if not os.path.exists(base_path):\n",
    "    print(f\"❌ ERROR: The base dataset path does NOT exist: {base_path}\")\n",
    "else:\n",
    "    print(f\"✅ Base dataset path exists: {base_path}\")\n",
    "    print(\"📂 Available folders:\", os.listdir(base_path))\n"
   ]
  },
  {
   "cell_type": "code",
   "execution_count": 8,
   "metadata": {},
   "outputs": [
    {
     "ename": "FileNotFoundError",
     "evalue": "[WinError 3] The system cannot find the path specified: 'C:\\\\Users\\\\adity\\\\OneDrive\\\\Desktop\\\\211172\\\\Major Project\\\\nyu_data\\\\data\\\\nyu2_test\\\\hazy'",
     "output_type": "error",
     "traceback": [
      "\u001b[1;31m---------------------------------------------------------------------------\u001b[0m",
      "\u001b[1;31mFileNotFoundError\u001b[0m                         Traceback (most recent call last)",
      "Cell \u001b[1;32mIn[8], line 13\u001b[0m\n\u001b[0;32m     10\u001b[0m os\u001b[38;5;241m.\u001b[39mmakedirs(output_path, exist_ok\u001b[38;5;241m=\u001b[39m\u001b[38;5;28;01mTrue\u001b[39;00m)\n\u001b[0;32m     12\u001b[0m \u001b[38;5;66;03m# Get list of hazy images\u001b[39;00m\n\u001b[1;32m---> 13\u001b[0m hazy_images \u001b[38;5;241m=\u001b[39m \u001b[43mos\u001b[49m\u001b[38;5;241;43m.\u001b[39;49m\u001b[43mlistdir\u001b[49m\u001b[43m(\u001b[49m\u001b[43mhazy_path\u001b[49m\u001b[43m)\u001b[49m\n\u001b[0;32m     15\u001b[0m \u001b[38;5;66;03m# Process each hazy image\u001b[39;00m\n\u001b[0;32m     16\u001b[0m \u001b[38;5;28;01mfor\u001b[39;00m i \u001b[38;5;129;01min\u001b[39;00m hazy_images:\n",
      "\u001b[1;31mFileNotFoundError\u001b[0m: [WinError 3] The system cannot find the path specified: 'C:\\\\Users\\\\adity\\\\OneDrive\\\\Desktop\\\\211172\\\\Major Project\\\\nyu_data\\\\data\\\\nyu2_test\\\\hazy'"
     ]
    }
   ],
   "source": [
    "import os\n",
    "from PIL import Image\n",
    "\n",
    "# Define paths\n",
    "base_path = r\"C:\\Users\\adity\\OneDrive\\Desktop\\211172\\Major Project\\nyu_data\\data\\nyu2_test\"\n",
    "hazy_path = os.path.join(base_path, \"hazy\")  # Update if folder name is different\n",
    "output_path = os.path.join(base_path, \"test\")\n",
    "\n",
    "# Ensure output directory exists\n",
    "os.makedirs(output_path, exist_ok=True)\n",
    "\n",
    "# Get list of hazy images\n",
    "hazy_images = os.listdir(hazy_path)\n",
    "\n",
    "# Process each hazy image\n",
    "for i in hazy_images:\n",
    "    im = Image.open(os.path.join(hazy_path, i))\n",
    "    \n",
    "    ss = str(i).split('.')[0]  # Remove file extension\n",
    "    val = int(''.join(filter(str.isdigit, ss)))  # Extract numeric part\n",
    "    \n",
    "    output_file = os.path.join(output_path, f\"{val}.jpg\")\n",
    "    im.save(output_file)\n",
    "\n",
    "print(f\"✅ Processed {len(hazy_images)} images. Saved in: {output_path}\")\n"
   ]
  },
  {
   "cell_type": "code",
   "execution_count": 10,
   "metadata": {
    "colab": {},
    "colab_type": "code",
    "id": "L1lIIZ4C-nCa"
   },
   "outputs": [
    {
     "name": "stderr",
     "output_type": "stream",
     "text": [
      "A subdirectory or file test already exists.\n"
     ]
    }
   ],
   "source": [
    "!mkdir test"
   ]
  },
  {
   "cell_type": "code",
   "execution_count": 11,
   "metadata": {
    "colab": {},
    "colab_type": "code",
    "id": "cWZxVbcRSDen"
   },
   "outputs": [],
   "source": [
    "!rm test/*"
   ]
  },
  {
   "cell_type": "code",
   "execution_count": 13,
   "metadata": {
    "colab": {},
    "colab_type": "code",
    "id": "tlzfUFbcXZQG"
   },
   "outputs": [
    {
     "ename": "SyntaxError",
     "evalue": "(unicode error) 'unicodeescape' codec can't decode bytes in position 2-3: truncated \\UXXXXXXXX escape (2720926205.py, line 4)",
     "output_type": "error",
     "traceback": [
      "\u001b[1;36m  Cell \u001b[1;32mIn[13], line 4\u001b[1;36m\u001b[0m\n\u001b[1;33m    im_c = Image.open('C:\\Users\\adity\\OneDrive\\Desktop\\211172\\Major Project\\nyu_data\\data\\nyu2_test'+clear[j])\u001b[0m\n\u001b[1;37m                                                                                                    ^\u001b[0m\n\u001b[1;31mSyntaxError\u001b[0m\u001b[1;31m:\u001b[0m (unicode error) 'unicodeescape' codec can't decode bytes in position 2-3: truncated \\UXXXXXXXX escape\n"
     ]
    }
   ],
   "source": [
    "k=20\n",
    "for i in range(len(l)):\n",
    "    for j in range(k-20,k):\n",
    "        im_c = Image.open('C:\\Users\\adity\\OneDrive\\Desktop\\211172\\Major Project\\nyu_data\\data\\nyu2_test'+clear[j])\n",
    "        # im = Image.open('part1/'+(clear[j].replace('.jpg',''))+l[i])\n",
    "        # plt.imshow(im_c)\n",
    "        # plt.show()\n",
    "        # plt.imshow(im)\n",
    "        # plt.show()\n",
    "        im_c.save('test/'+str(j)+'_clean.jpg')\n",
    "        # im.save('test/'+str(j)+'.jpg')\n",
    "    k = k + 20"
   ]
  },
  {
   "cell_type": "markdown",
   "metadata": {
    "colab_type": "text",
    "id": "-qmG0TG-aRGb"
   },
   "source": [
    "### ITS"
   ]
  },
  {
   "cell_type": "code",
   "execution_count": 20,
   "metadata": {
    "colab": {},
    "colab_type": "code",
    "id": "tf4FXd8EaZSV"
   },
   "outputs": [],
   "source": [
    "clear = os.listdir('/Users/evilpanda/Desktop/Vaish/SOTS/indoor/gt')\n",
    "haze = os.listdir('/Users/evilpanda/Desktop/Vaish/SOTS/indoor/hazy')"
   ]
  },
  {
   "cell_type": "code",
   "execution_count": 21,
   "metadata": {
    "colab": {},
    "colab_type": "code",
    "id": "c5PlmgvUaZSd"
   },
   "outputs": [
    {
     "name": "stdout",
     "output_type": "stream",
     "text": [
      "mkdir: test_its: File exists\n"
     ]
    }
   ],
   "source": [
    "!mkdir test_its"
   ]
  },
  {
   "cell_type": "code",
   "execution_count": 22,
   "metadata": {
    "colab": {
     "base_uri": "https://localhost:8080/",
     "height": 33
    },
    "colab_type": "code",
    "id": "jlgrgYDOaZSk",
    "outputId": "d10ca901-7963-4c3f-f3fa-8747183654b4"
   },
   "outputs": [
    {
     "name": "stdout",
     "output_type": "stream",
     "text": [
      "zsh:1: no matches found: test_its/*\n"
     ]
    }
   ],
   "source": [
    "!rm test_its/*"
   ]
  },
  {
   "cell_type": "code",
   "execution_count": 23,
   "metadata": {
    "colab": {},
    "colab_type": "code",
    "id": "KypCrN_TcBQx"
   },
   "outputs": [],
   "source": [
    "rhaze = random.sample(haze, 20)\n",
    "for i in range(len(rhaze)):\n",
    "    im = Image.open('/Users/evilpanda/Desktop/Vaish/SOTS/indoor/hazy/'+rhaze[i])\n",
    "    c = rhaze[i].partition('_')[0]+'.png'\n",
    "    im_c = Image.open('/Users/evilpanda/Desktop/Vaish/SOTS/indoor/gt/'+c)\n",
    "    # plt.imshow(im_c)\n",
    "    # plt.show()\n",
    "    # plt.imshow(im)\n",
    "    # plt.show()\n",
    "    im_c.save('test_its/'+str(i)+'_clean.jpg')\n",
    "    im.save('test_its/'+str(i)+'.jpg')"
   ]
  }
 ],
 "metadata": {
  "colab": {
   "collapsed_sections": [],
   "name": "Create Test Dataset.ipynb",
   "provenance": []
  },
  "kernelspec": {
   "display_name": "Python 3 (ipykernel)",
   "language": "python",
   "name": "python3"
  },
  "language_info": {
   "codemirror_mode": {
    "name": "ipython",
    "version": 3
   },
   "file_extension": ".py",
   "mimetype": "text/x-python",
   "name": "python",
   "nbconvert_exporter": "python",
   "pygments_lexer": "ipython3",
   "version": "3.11.0"
  }
 },
 "nbformat": 4,
 "nbformat_minor": 4
}
