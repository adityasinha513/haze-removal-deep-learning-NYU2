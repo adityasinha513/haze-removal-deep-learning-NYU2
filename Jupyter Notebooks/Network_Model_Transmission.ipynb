{
 "cells": [
  {
   "cell_type": "markdown",
   "metadata": {
    "colab_type": "text",
    "id": "oQcB_IZ3SoSx"
   },
   "source": [
    "**Mounting Google Drive for Dataset**"
   ]
  },
  {
   "cell_type": "markdown",
   "metadata": {
    "colab_type": "text",
    "id": "xfXrgIyOSi7v"
   },
   "source": [
    "**Importing Libraries**"
   ]
  },
  {
   "cell_type": "code",
   "execution_count": 5,
   "metadata": {
    "colab": {
     "base_uri": "https://localhost:8080/",
     "height": 34
    },
    "colab_type": "code",
    "id": "_AHvd5tsNT-n",
    "outputId": "02e4afa5-2cd6-46e7-a65f-c29df36d39b4"
   },
   "outputs": [],
   "source": [
    "import numpy as np\n",
    "import h5py\n",
    "import math\n",
    "\n",
    "from keras.models import Model\n",
    "from keras.layers import Input, Activation, BatchNormalization, Conv2D, Conv3D\n",
    "from keras.layers import Lambda, Concatenate, MaxPooling2D, Maximum, Add\n",
    "from keras.initializers import RandomNormal\n",
    "from keras.optimizers import SGD\n",
    "from keras.losses import MeanSquaredError\n",
    "from keras.callbacks import Callback,LearningRateScheduler\n",
    "from keras.utils import plot_model\n",
    "\n",
    "import keras.backend as K\n",
    "K.set_image_data_format('channels_last')\n",
    "\n",
    "import matplotlib.pyplot as plt\n",
    "from matplotlib.pyplot import imshow\n",
    "\n",
    "%matplotlib inline"
   ]
  },
  {
   "cell_type": "markdown",
   "metadata": {
    "colab_type": "text",
    "id": "bODVTrnLUxhX"
   },
   "source": [
    "**Util functions**"
   ]
  },
  {
   "cell_type": "code",
   "execution_count": 6,
   "metadata": {
    "colab": {},
    "colab_type": "code",
    "id": "g30fKhmUSx0A"
   },
   "outputs": [],
   "source": [
    "import h5py\n",
    "import numpy as np\n",
    "from tensorflow.keras.initializers import RandomNormal\n",
    "\n",
    "# Load Dataset from Local Path\n",
    "def load_train_dataset():\n",
    "    \"\"\"\n",
    "    Load training dataset from local path\n",
    "\n",
    "    Returns:\n",
    "    clean_image -- Clean image patches\n",
    "    haze_image -- Hazy image patches\n",
    "    transmission_value -- Transmission value which converts clean image to \n",
    "                          haze image\n",
    "    \"\"\"\n",
    "\n",
    "    file = r\"C:\\Users\\adity\\OneDrive\\Desktop\\211172\\Major Project\\Aditya\\Jupyter Notebooks-20241129T163236Z-001\\Jupyter Notebooks\\train_data.hdf5\"\n",
    "    \n",
    "    with h5py.File(file, 'r') as train_dataset:\n",
    "        clean_image = np.array(train_dataset['clear_image'][:])\n",
    "        haze_image = np.array(train_dataset['haze_image'][:])\n",
    "        transmission_value = np.array(train_dataset['transmission_value'][:])\n",
    "    \n",
    "    return clean_image, haze_image, transmission_value\n",
    "\n",
    "\n",
    "# Gaussian Weight Initialization for layers\n",
    "weight_init = RandomNormal(mean=0.0, stddev=0.001)\n",
    "\n",
    "\n",
    "# Learning Rate Decay function\n",
    "def lr_schedule(epoch, lr, logs={}):\n",
    "    \"\"\"\n",
    "    Learning Rate Decay scheduler\n",
    "\n",
    "    Arguments:\n",
    "    epoch -- current epoch number\n",
    "    lr -- current learning rate\n",
    "    log -- dictionary storing the logs of training\n",
    "\n",
    "    Returns:\n",
    "    lr -- learning rate for next epoch\n",
    "    \"\"\"\n",
    "\n",
    "    print('learning_rate:', lr)\n",
    "    logs.update({'lr': lr})\n",
    "    if epoch in (49, 99):\n",
    "        return lr * 0.5\n",
    "    else:\n",
    "        return lr\n"
   ]
  },
  {
   "cell_type": "markdown",
   "metadata": {
    "colab_type": "text",
    "id": "w6g_9pM0StUr"
   },
   "source": [
    "**Preparing Train Dataset**"
   ]
  },
  {
   "cell_type": "code",
   "execution_count": 7,
   "metadata": {
    "colab": {
     "base_uri": "https://localhost:8080/",
     "height": 87
    },
    "colab_type": "code",
    "id": "gcW1gHygTySj",
    "outputId": "fd2348ee-a8b8-48d5-afb1-8f74c5277d79"
   },
   "outputs": [
    {
     "name": "stdout",
     "output_type": "stream",
     "text": [
      "number of training examples: 60000\n",
      "Clean Image Patch shape: (60000, 16, 16, 3)\n",
      "Haze Image Patch shape: (60000, 16, 16, 3)\n",
      "Transmission Value shape: (60000, 1, 1, 1)\n"
     ]
    }
   ],
   "source": [
    "clean_image, haze_image, transmission_value = load_train_dataset()\n",
    "transmission_value = transmission_value.reshape(-1,1,1,1)\n",
    "\n",
    "print (\"number of training examples:\", clean_image.shape[0])\n",
    "print (\"Clean Image Patch shape:\", clean_image.shape)\n",
    "print (\"Haze Image Patch shape:\", haze_image.shape)\n",
    "print (\"Transmission Value shape:\", transmission_value.shape)"
   ]
  },
  {
   "cell_type": "markdown",
   "metadata": {
    "colab_type": "text",
    "id": "EkezO0NdVA0j"
   },
   "source": [
    "#### Transmission Model"
   ]
  },
  {
   "cell_type": "markdown",
   "metadata": {
    "colab_type": "text",
    "id": "DWqTSVTF8HbX"
   },
   "source": [
    "**Designing**"
   ]
  },
  {
   "cell_type": "code",
   "execution_count": 8,
   "metadata": {
    "colab": {},
    "colab_type": "code",
    "id": "y5n7RclGU__L"
   },
   "outputs": [],
   "source": [
    "def TransmissionModel(input_shape):\n",
    "    \"\"\"\n",
    "    Implementation of the Model.\n",
    "    \n",
    "    Arguments:\n",
    "    input_shape -- shape of the images of the dataset\n",
    "        (height, width, channels) as a tuple.  \n",
    "        Note that this does not include the 'batch' as a dimension.\n",
    "        If you have a batch like 'X_train', \n",
    "        then you can provide the input_shape using\n",
    "        X_train.shape[1:]\n",
    "\n",
    "    Returns:\n",
    "    model -- a Model() instance in Keras\n",
    "    \"\"\"\n",
    "    \n",
    "    X_input = Input(input_shape, name = 'input1')\n",
    "\n",
    "    # CONV -> RELU Block applied to X\n",
    "    X = Conv2D(16, (3, 3), strides = (1, 1), kernel_initializer = weight_init, name = 'conv1')(X_input)\n",
    "    X = Activation('relu', name = 'activation1')(X)\n",
    "\n",
    "    # SLICE Block applied to X\n",
    "    X1 = Lambda(lambda X: X[:,:,:,:4], name = 'slice1')(X)\n",
    "    X2 = Lambda(lambda X: X[:,:,:,4:8], name = 'slice2')(X)\n",
    "    X3 = Lambda(lambda X: X[:,:,:,8:12], name = 'slice3')(X)\n",
    "    X4 = Lambda(lambda X: X[:,:,:,12:], name = 'slice4')(X)\n",
    "\n",
    "    # MAXIMUM Block applied to 4 slices\n",
    "    X = Maximum(name = 'merge1_maximum')([X1,X2,X3,X4])\n",
    "\n",
    "    # CONV BLock for multi-scale mapping with filters of size 3x3, 5x5, 7x7\n",
    "    X_3x3 = Conv2D(16, (3, 3), strides = (1, 1), padding = 'same', kernel_initializer = weight_init, name = 'conv2_3x3')(X)\n",
    "    X_5x5 = Conv2D(16, (5, 5), strides = (1, 1), padding = 'same', kernel_initializer = weight_init, name = 'conv2_5x5')(X)\n",
    "    X_7x7 = Conv2D(16, (7, 7), strides = (1, 1), padding = 'same', kernel_initializer = weight_init, name = 'conv2_7x7')(X)\n",
    "\n",
    "    # CONCATENATE Block to join 3 multi-scale layers\n",
    "    X = Concatenate(name = 'merge2_concatenate')([X_3x3,X_5x5,X_7x7])\n",
    "\n",
    "    # MAXPOOL layer of filter size 7x7\n",
    "    X = MaxPooling2D((7, 7), strides = (1, 1), name = 'maxpool1')(X)\n",
    "    \n",
    "    # CONV -> RELU BLock\n",
    "    X = Conv2D(1, (8, 8), strides = (1, 1), kernel_initializer = weight_init, name = 'conv3')(X)\n",
    "    X = Activation('relu', name = 'activation2')(X)\n",
    "\n",
    "    # Create Keras model instance\n",
    "    model = Model(inputs = X_input, outputs = X, name='TransmissionModel')\n",
    "\n",
    "    return model"
   ]
  },
  {
   "cell_type": "markdown",
   "metadata": {
    "colab_type": "text",
    "id": "hDIxIc6D8ERb"
   },
   "source": [
    "**Compiling**"
   ]
  },
  {
   "cell_type": "code",
   "execution_count": 9,
   "metadata": {
    "colab": {
     "base_uri": "https://localhost:8080/",
     "height": 781
    },
    "colab_type": "code",
    "id": "oJuxzXK8Lh_X",
    "outputId": "6a29b6e5-103d-45af-9c4a-8179a16360d7"
   },
   "outputs": [
    {
     "name": "stdout",
     "output_type": "stream",
     "text": [
      "WARNING:tensorflow:From C:\\Users\\adity\\AppData\\Local\\Programs\\Python\\Python311\\Lib\\site-packages\\keras\\src\\backend.py:1398: The name tf.executing_eagerly_outside_functions is deprecated. Please use tf.compat.v1.executing_eagerly_outside_functions instead.\n",
      "\n"
     ]
    },
    {
     "name": "stderr",
     "output_type": "stream",
     "text": [
      "C:\\Users\\adity\\AppData\\Local\\Programs\\Python\\Python311\\Lib\\site-packages\\keras\\src\\initializers\\initializers.py:120: UserWarning: The initializer RandomNormal is unseeded and being called multiple times, which will return identical values each time (even if the initializer is unseeded). Please update your code to provide a seed to the initializer, or avoid using the same initializer instance more than once.\n",
      "  warnings.warn(\n"
     ]
    },
    {
     "name": "stdout",
     "output_type": "stream",
     "text": [
      "WARNING:tensorflow:From C:\\Users\\adity\\AppData\\Local\\Programs\\Python\\Python311\\Lib\\site-packages\\keras\\src\\layers\\pooling\\max_pooling2d.py:161: The name tf.nn.max_pool is deprecated. Please use tf.nn.max_pool2d instead.\n",
      "\n",
      "Model: \"TransmissionModel\"\n",
      "__________________________________________________________________________________________________\n",
      " Layer (type)                Output Shape                 Param #   Connected to                  \n",
      "==================================================================================================\n",
      " input1 (InputLayer)         [(None, 16, 16, 3)]          0         []                            \n",
      "                                                                                                  \n",
      " conv1 (Conv2D)              (None, 14, 14, 16)           448       ['input1[0][0]']              \n",
      "                                                                                                  \n",
      " activation1 (Activation)    (None, 14, 14, 16)           0         ['conv1[0][0]']               \n",
      "                                                                                                  \n",
      " slice1 (Lambda)             (None, 14, 14, 4)            0         ['activation1[0][0]']         \n",
      "                                                                                                  \n",
      " slice2 (Lambda)             (None, 14, 14, 4)            0         ['activation1[0][0]']         \n",
      "                                                                                                  \n",
      " slice3 (Lambda)             (None, 14, 14, 4)            0         ['activation1[0][0]']         \n",
      "                                                                                                  \n",
      " slice4 (Lambda)             (None, 14, 14, 4)            0         ['activation1[0][0]']         \n",
      "                                                                                                  \n",
      " merge1_maximum (Maximum)    (None, 14, 14, 4)            0         ['slice1[0][0]',              \n",
      "                                                                     'slice2[0][0]',              \n",
      "                                                                     'slice3[0][0]',              \n",
      "                                                                     'slice4[0][0]']              \n",
      "                                                                                                  \n",
      " conv2_3x3 (Conv2D)          (None, 14, 14, 16)           592       ['merge1_maximum[0][0]']      \n",
      "                                                                                                  \n",
      " conv2_5x5 (Conv2D)          (None, 14, 14, 16)           1616      ['merge1_maximum[0][0]']      \n",
      "                                                                                                  \n",
      " conv2_7x7 (Conv2D)          (None, 14, 14, 16)           3152      ['merge1_maximum[0][0]']      \n",
      "                                                                                                  \n",
      " merge2_concatenate (Concat  (None, 14, 14, 48)           0         ['conv2_3x3[0][0]',           \n",
      " enate)                                                              'conv2_5x5[0][0]',           \n",
      "                                                                     'conv2_7x7[0][0]']           \n",
      "                                                                                                  \n",
      " maxpool1 (MaxPooling2D)     (None, 8, 8, 48)             0         ['merge2_concatenate[0][0]']  \n",
      "                                                                                                  \n",
      " conv3 (Conv2D)              (None, 1, 1, 1)              3073      ['maxpool1[0][0]']            \n",
      "                                                                                                  \n",
      " activation2 (Activation)    (None, 1, 1, 1)              0         ['conv3[0][0]']               \n",
      "                                                                                                  \n",
      "==================================================================================================\n",
      "Total params: 8881 (34.69 KB)\n",
      "Trainable params: 8881 (34.69 KB)\n",
      "Non-trainable params: 0 (0.00 Byte)\n",
      "__________________________________________________________________________________________________\n"
     ]
    }
   ],
   "source": [
    "model1 = TransmissionModel(haze_image.shape[1:])\n",
    "model1.summary()\n",
    "model1.compile(optimizer=SGD(0.001), loss=MeanSquaredError())"
   ]
  },
  {
   "cell_type": "markdown",
   "metadata": {
    "colab_type": "text",
    "id": "F8WyxviG8Kgp"
   },
   "source": [
    "**Training**"
   ]
  },
  {
   "cell_type": "code",
   "execution_count": 11,
   "metadata": {
    "colab": {},
    "colab_type": "code",
    "id": "lCEMby8uoYZm"
   },
   "outputs": [
    {
     "name": "stdout",
     "output_type": "stream",
     "text": [
      "learning_rate: 0.0010000000474974513\n",
      "Epoch 1/150\n",
      "WARNING:tensorflow:From C:\\Users\\adity\\AppData\\Local\\Programs\\Python\\Python311\\Lib\\site-packages\\keras\\src\\utils\\tf_utils.py:492: The name tf.ragged.RaggedTensorValue is deprecated. Please use tf.compat.v1.ragged.RaggedTensorValue instead.\n",
      "\n",
      "2000/2000 [==============================] - 12s 5ms/step - loss: 0.0644 - lr: 0.0010\n",
      "learning_rate: 0.0010000000474974513\n",
      "Epoch 2/150\n",
      "2000/2000 [==============================] - 11s 5ms/step - loss: 0.0351 - lr: 0.0010\n",
      "learning_rate: 0.0010000000474974513\n",
      "Epoch 3/150\n",
      "2000/2000 [==============================] - 11s 5ms/step - loss: 0.0351 - lr: 0.0010\n",
      "learning_rate: 0.0010000000474974513\n",
      "Epoch 4/150\n",
      "2000/2000 [==============================] - 11s 5ms/step - loss: 0.0347 - lr: 0.0010\n",
      "learning_rate: 0.0010000000474974513\n",
      "Epoch 5/150\n",
      "2000/2000 [==============================] - 10s 5ms/step - loss: 0.0306 - lr: 0.0010\n",
      "learning_rate: 0.0010000000474974513\n",
      "Epoch 6/150\n",
      "2000/2000 [==============================] - 11s 5ms/step - loss: 0.0228 - lr: 0.0010\n",
      "learning_rate: 0.0010000000474974513\n",
      "Epoch 7/150\n",
      "2000/2000 [==============================] - 11s 5ms/step - loss: 0.0208 - lr: 0.0010\n",
      "learning_rate: 0.0010000000474974513\n",
      "Epoch 8/150\n",
      "2000/2000 [==============================] - 10s 5ms/step - loss: 0.0204 - lr: 0.0010\n",
      "learning_rate: 0.0010000000474974513\n",
      "Epoch 9/150\n",
      "2000/2000 [==============================] - 11s 5ms/step - loss: 0.0201 - lr: 0.0010\n",
      "learning_rate: 0.0010000000474974513\n",
      "Epoch 10/150\n",
      "2000/2000 [==============================] - 10s 5ms/step - loss: 0.0198 - lr: 0.0010\n",
      "learning_rate: 0.0010000000474974513\n",
      "Epoch 11/150\n",
      "2000/2000 [==============================] - 10s 5ms/step - loss: 0.0196 - lr: 0.0010\n",
      "learning_rate: 0.0010000000474974513\n",
      "Epoch 12/150\n",
      "2000/2000 [==============================] - 12s 6ms/step - loss: 0.0194 - lr: 0.0010\n",
      "learning_rate: 0.0010000000474974513\n",
      "Epoch 13/150\n",
      "2000/2000 [==============================] - 13s 7ms/step - loss: 0.0192 - lr: 0.0010\n",
      "learning_rate: 0.0010000000474974513\n",
      "Epoch 14/150\n",
      "2000/2000 [==============================] - 13s 6ms/step - loss: 0.0191 - lr: 0.0010\n",
      "learning_rate: 0.0010000000474974513\n",
      "Epoch 15/150\n",
      "2000/2000 [==============================] - 12s 6ms/step - loss: 0.0191 - lr: 0.0010\n",
      "learning_rate: 0.0010000000474974513\n",
      "Epoch 16/150\n",
      "2000/2000 [==============================] - 11s 5ms/step - loss: 0.0190 - lr: 0.0010\n",
      "learning_rate: 0.0010000000474974513\n",
      "Epoch 17/150\n",
      "2000/2000 [==============================] - 11s 5ms/step - loss: 0.0189 - lr: 0.0010\n",
      "learning_rate: 0.0010000000474974513\n",
      "Epoch 18/150\n",
      "2000/2000 [==============================] - 11s 5ms/step - loss: 0.0188 - lr: 0.0010\n",
      "learning_rate: 0.0010000000474974513\n",
      "Epoch 19/150\n",
      "2000/2000 [==============================] - 11s 5ms/step - loss: 0.0187 - lr: 0.0010\n",
      "learning_rate: 0.0010000000474974513\n",
      "Epoch 20/150\n",
      "2000/2000 [==============================] - 10s 5ms/step - loss: 0.0186 - lr: 0.0010\n",
      "learning_rate: 0.0010000000474974513\n",
      "Epoch 21/150\n",
      "2000/2000 [==============================] - 11s 5ms/step - loss: 0.0185 - lr: 0.0010\n",
      "learning_rate: 0.0010000000474974513\n",
      "Epoch 22/150\n",
      "2000/2000 [==============================] - 11s 6ms/step - loss: 0.0184 - lr: 0.0010\n",
      "learning_rate: 0.0010000000474974513\n",
      "Epoch 23/150\n",
      "2000/2000 [==============================] - 10s 5ms/step - loss: 0.0183 - lr: 0.0010\n",
      "learning_rate: 0.0010000000474974513\n",
      "Epoch 24/150\n",
      "2000/2000 [==============================] - 10s 5ms/step - loss: 0.0182 - lr: 0.0010\n",
      "learning_rate: 0.0010000000474974513\n",
      "Epoch 25/150\n",
      "2000/2000 [==============================] - 10s 5ms/step - loss: 0.0180 - lr: 0.0010\n",
      "learning_rate: 0.0010000000474974513\n",
      "Epoch 26/150\n",
      "2000/2000 [==============================] - 9s 5ms/step - loss: 0.0179 - lr: 0.0010\n",
      "learning_rate: 0.0010000000474974513\n",
      "Epoch 27/150\n",
      "2000/2000 [==============================] - 9s 5ms/step - loss: 0.0177 - lr: 0.0010\n",
      "learning_rate: 0.0010000000474974513\n",
      "Epoch 28/150\n",
      "2000/2000 [==============================] - 10s 5ms/step - loss: 0.0176 - lr: 0.0010\n",
      "learning_rate: 0.0010000000474974513\n",
      "Epoch 29/150\n",
      "2000/2000 [==============================] - 11s 6ms/step - loss: 0.0174 - lr: 0.0010\n",
      "learning_rate: 0.0010000000474974513\n",
      "Epoch 30/150\n",
      "2000/2000 [==============================] - 10s 5ms/step - loss: 0.0173 - lr: 0.0010\n",
      "learning_rate: 0.0010000000474974513\n",
      "Epoch 31/150\n",
      "2000/2000 [==============================] - 13s 7ms/step - loss: 0.0171 - lr: 0.0010\n",
      "learning_rate: 0.0010000000474974513\n",
      "Epoch 32/150\n",
      "2000/2000 [==============================] - 11s 6ms/step - loss: 0.0170 - lr: 0.0010\n",
      "learning_rate: 0.0010000000474974513\n",
      "Epoch 33/150\n",
      "2000/2000 [==============================] - 11s 6ms/step - loss: 0.0169 - lr: 0.0010\n",
      "learning_rate: 0.0010000000474974513\n",
      "Epoch 34/150\n",
      "2000/2000 [==============================] - 11s 5ms/step - loss: 0.0168 - lr: 0.0010\n",
      "learning_rate: 0.0010000000474974513\n",
      "Epoch 35/150\n",
      "2000/2000 [==============================] - 11s 6ms/step - loss: 0.0167 - lr: 0.0010\n",
      "learning_rate: 0.0010000000474974513\n",
      "Epoch 36/150\n",
      "2000/2000 [==============================] - 11s 5ms/step - loss: 0.0166 - lr: 0.0010\n",
      "learning_rate: 0.0010000000474974513\n",
      "Epoch 37/150\n",
      "2000/2000 [==============================] - 11s 5ms/step - loss: 0.0166 - lr: 0.0010\n",
      "learning_rate: 0.0010000000474974513\n",
      "Epoch 38/150\n",
      "2000/2000 [==============================] - 11s 5ms/step - loss: 0.0165 - lr: 0.0010\n",
      "learning_rate: 0.0010000000474974513\n",
      "Epoch 39/150\n",
      "2000/2000 [==============================] - 11s 5ms/step - loss: 0.0165 - lr: 0.0010\n",
      "learning_rate: 0.0010000000474974513\n",
      "Epoch 40/150\n",
      "2000/2000 [==============================] - 11s 5ms/step - loss: 0.0164 - lr: 0.0010\n",
      "learning_rate: 0.0010000000474974513\n",
      "Epoch 41/150\n",
      "2000/2000 [==============================] - 11s 5ms/step - loss: 0.0164 - lr: 0.0010\n",
      "learning_rate: 0.0010000000474974513\n",
      "Epoch 42/150\n",
      "2000/2000 [==============================] - 11s 5ms/step - loss: 0.0164 - lr: 0.0010\n",
      "learning_rate: 0.0010000000474974513\n",
      "Epoch 43/150\n",
      "2000/2000 [==============================] - 11s 6ms/step - loss: 0.0163 - lr: 0.0010\n",
      "learning_rate: 0.0010000000474974513\n",
      "Epoch 44/150\n",
      "2000/2000 [==============================] - 11s 5ms/step - loss: 0.0163 - lr: 0.0010\n",
      "learning_rate: 0.0010000000474974513\n",
      "Epoch 45/150\n",
      "2000/2000 [==============================] - 11s 5ms/step - loss: 0.0163 - lr: 0.0010\n",
      "learning_rate: 0.0010000000474974513\n",
      "Epoch 46/150\n",
      "2000/2000 [==============================] - 11s 5ms/step - loss: 0.0163 - lr: 0.0010\n",
      "learning_rate: 0.0010000000474974513\n",
      "Epoch 47/150\n",
      "2000/2000 [==============================] - 11s 5ms/step - loss: 0.0163 - lr: 0.0010\n",
      "learning_rate: 0.0010000000474974513\n",
      "Epoch 48/150\n",
      "2000/2000 [==============================] - 11s 5ms/step - loss: 0.0162 - lr: 0.0010\n",
      "learning_rate: 0.0010000000474974513\n",
      "Epoch 49/150\n",
      "2000/2000 [==============================] - 10s 5ms/step - loss: 0.0162 - lr: 0.0010\n",
      "learning_rate: 0.0010000000474974513\n",
      "Epoch 50/150\n",
      "2000/2000 [==============================] - 10s 5ms/step - loss: 0.0161 - lr: 5.0000e-04\n",
      "learning_rate: 0.0005000000237487257\n",
      "Epoch 51/150\n",
      "2000/2000 [==============================] - 11s 5ms/step - loss: 0.0161 - lr: 5.0000e-04\n",
      "learning_rate: 0.0005000000237487257\n",
      "Epoch 52/150\n",
      "2000/2000 [==============================] - 11s 6ms/step - loss: 0.0161 - lr: 5.0000e-04\n",
      "learning_rate: 0.0005000000237487257\n",
      "Epoch 53/150\n",
      "2000/2000 [==============================] - 11s 6ms/step - loss: 0.0161 - lr: 5.0000e-04\n",
      "learning_rate: 0.0005000000237487257\n",
      "Epoch 54/150\n",
      "2000/2000 [==============================] - 11s 5ms/step - loss: 0.0161 - lr: 5.0000e-04\n",
      "learning_rate: 0.0005000000237487257\n",
      "Epoch 55/150\n",
      "2000/2000 [==============================] - 11s 6ms/step - loss: 0.0161 - lr: 5.0000e-04\n",
      "learning_rate: 0.0005000000237487257\n",
      "Epoch 56/150\n",
      "2000/2000 [==============================] - 12s 6ms/step - loss: 0.0161 - lr: 5.0000e-04\n",
      "learning_rate: 0.0005000000237487257\n",
      "Epoch 57/150\n",
      "2000/2000 [==============================] - 12s 6ms/step - loss: 0.0161 - lr: 5.0000e-04\n",
      "learning_rate: 0.0005000000237487257\n",
      "Epoch 58/150\n",
      "2000/2000 [==============================] - 11s 6ms/step - loss: 0.0160 - lr: 5.0000e-04\n",
      "learning_rate: 0.0005000000237487257\n",
      "Epoch 59/150\n",
      "2000/2000 [==============================] - 11s 6ms/step - loss: 0.0160 - lr: 5.0000e-04\n",
      "learning_rate: 0.0005000000237487257\n",
      "Epoch 60/150\n",
      "2000/2000 [==============================] - 11s 5ms/step - loss: 0.0160 - lr: 5.0000e-04\n",
      "learning_rate: 0.0005000000237487257\n",
      "Epoch 61/150\n",
      "2000/2000 [==============================] - 11s 5ms/step - loss: 0.0160 - lr: 5.0000e-04\n",
      "learning_rate: 0.0005000000237487257\n",
      "Epoch 62/150\n",
      "2000/2000 [==============================] - 12s 6ms/step - loss: 0.0160 - lr: 5.0000e-04\n",
      "learning_rate: 0.0005000000237487257\n",
      "Epoch 63/150\n",
      "2000/2000 [==============================] - 10s 5ms/step - loss: 0.0160 - lr: 5.0000e-04\n",
      "learning_rate: 0.0005000000237487257\n",
      "Epoch 64/150\n",
      "2000/2000 [==============================] - 11s 5ms/step - loss: 0.0160 - lr: 5.0000e-04\n",
      "learning_rate: 0.0005000000237487257\n",
      "Epoch 65/150\n",
      "2000/2000 [==============================] - 11s 5ms/step - loss: 0.0160 - lr: 5.0000e-04\n",
      "learning_rate: 0.0005000000237487257\n",
      "Epoch 66/150\n",
      "2000/2000 [==============================] - 11s 5ms/step - loss: 0.0160 - lr: 5.0000e-04\n",
      "learning_rate: 0.0005000000237487257\n",
      "Epoch 67/150\n",
      "2000/2000 [==============================] - 11s 6ms/step - loss: 0.0160 - lr: 5.0000e-04\n",
      "learning_rate: 0.0005000000237487257\n",
      "Epoch 68/150\n",
      "2000/2000 [==============================] - 11s 6ms/step - loss: 0.0160 - lr: 5.0000e-04\n",
      "learning_rate: 0.0005000000237487257\n",
      "Epoch 69/150\n",
      "2000/2000 [==============================] - 11s 6ms/step - loss: 0.0160 - lr: 5.0000e-04\n",
      "learning_rate: 0.0005000000237487257\n",
      "Epoch 70/150\n",
      "2000/2000 [==============================] - 12s 6ms/step - loss: 0.0160 - lr: 5.0000e-04\n",
      "learning_rate: 0.0005000000237487257\n",
      "Epoch 71/150\n",
      "2000/2000 [==============================] - 11s 5ms/step - loss: 0.0160 - lr: 5.0000e-04\n",
      "learning_rate: 0.0005000000237487257\n",
      "Epoch 72/150\n",
      "2000/2000 [==============================] - 11s 6ms/step - loss: 0.0160 - lr: 5.0000e-04\n",
      "learning_rate: 0.0005000000237487257\n",
      "Epoch 73/150\n",
      "2000/2000 [==============================] - 11s 5ms/step - loss: 0.0160 - lr: 5.0000e-04\n",
      "learning_rate: 0.0005000000237487257\n",
      "Epoch 74/150\n",
      "2000/2000 [==============================] - 12s 6ms/step - loss: 0.0159 - lr: 5.0000e-04\n",
      "learning_rate: 0.0005000000237487257\n",
      "Epoch 75/150\n",
      "2000/2000 [==============================] - 11s 6ms/step - loss: 0.0159 - lr: 5.0000e-04\n",
      "learning_rate: 0.0005000000237487257\n",
      "Epoch 76/150\n",
      "2000/2000 [==============================] - 11s 6ms/step - loss: 0.0159 - lr: 5.0000e-04\n",
      "learning_rate: 0.0005000000237487257\n",
      "Epoch 77/150\n",
      "2000/2000 [==============================] - 11s 5ms/step - loss: 0.0159 - lr: 5.0000e-04\n",
      "learning_rate: 0.0005000000237487257\n",
      "Epoch 78/150\n",
      "2000/2000 [==============================] - 11s 5ms/step - loss: 0.0159 - lr: 5.0000e-04\n",
      "learning_rate: 0.0005000000237487257\n",
      "Epoch 79/150\n",
      "2000/2000 [==============================] - 11s 5ms/step - loss: 0.0159 - lr: 5.0000e-04\n",
      "learning_rate: 0.0005000000237487257\n",
      "Epoch 80/150\n",
      "2000/2000 [==============================] - 10s 5ms/step - loss: 0.0159 - lr: 5.0000e-04\n",
      "learning_rate: 0.0005000000237487257\n",
      "Epoch 81/150\n",
      "2000/2000 [==============================] - 10s 5ms/step - loss: 0.0159 - lr: 5.0000e-04\n",
      "learning_rate: 0.0005000000237487257\n",
      "Epoch 82/150\n",
      "2000/2000 [==============================] - 10s 5ms/step - loss: 0.0159 - lr: 5.0000e-04\n",
      "learning_rate: 0.0005000000237487257\n",
      "Epoch 83/150\n",
      "2000/2000 [==============================] - 10s 5ms/step - loss: 0.0159 - lr: 5.0000e-04\n",
      "learning_rate: 0.0005000000237487257\n",
      "Epoch 84/150\n",
      "2000/2000 [==============================] - 10s 5ms/step - loss: 0.0159 - lr: 5.0000e-04\n",
      "learning_rate: 0.0005000000237487257\n",
      "Epoch 85/150\n",
      "2000/2000 [==============================] - 10s 5ms/step - loss: 0.0159 - lr: 5.0000e-04\n",
      "learning_rate: 0.0005000000237487257\n",
      "Epoch 86/150\n",
      "2000/2000 [==============================] - 10s 5ms/step - loss: 0.0159 - lr: 5.0000e-04\n",
      "learning_rate: 0.0005000000237487257\n",
      "Epoch 87/150\n",
      "2000/2000 [==============================] - 10s 5ms/step - loss: 0.0159 - lr: 5.0000e-04\n",
      "learning_rate: 0.0005000000237487257\n",
      "Epoch 88/150\n",
      "2000/2000 [==============================] - 10s 5ms/step - loss: 0.0159 - lr: 5.0000e-04\n",
      "learning_rate: 0.0005000000237487257\n",
      "Epoch 89/150\n",
      "2000/2000 [==============================] - 10s 5ms/step - loss: 0.0159 - lr: 5.0000e-04\n",
      "learning_rate: 0.0005000000237487257\n",
      "Epoch 90/150\n",
      "2000/2000 [==============================] - 10s 5ms/step - loss: 0.0159 - lr: 5.0000e-04\n",
      "learning_rate: 0.0005000000237487257\n",
      "Epoch 91/150\n",
      "2000/2000 [==============================] - 10s 5ms/step - loss: 0.0159 - lr: 5.0000e-04\n",
      "learning_rate: 0.0005000000237487257\n",
      "Epoch 92/150\n",
      "2000/2000 [==============================] - 10s 5ms/step - loss: 0.0158 - lr: 5.0000e-04\n",
      "learning_rate: 0.0005000000237487257\n",
      "Epoch 93/150\n",
      "2000/2000 [==============================] - 10s 5ms/step - loss: 0.0158 - lr: 5.0000e-04\n",
      "learning_rate: 0.0005000000237487257\n",
      "Epoch 94/150\n",
      "2000/2000 [==============================] - 10s 5ms/step - loss: 0.0158 - lr: 5.0000e-04\n",
      "learning_rate: 0.0005000000237487257\n",
      "Epoch 95/150\n",
      "2000/2000 [==============================] - 10s 5ms/step - loss: 0.0158 - lr: 5.0000e-04\n",
      "learning_rate: 0.0005000000237487257\n",
      "Epoch 96/150\n",
      "2000/2000 [==============================] - 10s 5ms/step - loss: 0.0158 - lr: 5.0000e-04\n",
      "learning_rate: 0.0005000000237487257\n",
      "Epoch 97/150\n",
      "2000/2000 [==============================] - 11s 5ms/step - loss: 0.0158 - lr: 5.0000e-04\n",
      "learning_rate: 0.0005000000237487257\n",
      "Epoch 98/150\n",
      "2000/2000 [==============================] - 11s 6ms/step - loss: 0.0158 - lr: 5.0000e-04\n",
      "learning_rate: 0.0005000000237487257\n",
      "Epoch 99/150\n",
      "2000/2000 [==============================] - 11s 5ms/step - loss: 0.0158 - lr: 5.0000e-04\n",
      "learning_rate: 0.0005000000237487257\n",
      "Epoch 100/150\n",
      "2000/2000 [==============================] - 10s 5ms/step - loss: 0.0157 - lr: 2.5000e-04\n",
      "learning_rate: 0.0002500000118743628\n",
      "Epoch 101/150\n",
      "2000/2000 [==============================] - 10s 5ms/step - loss: 0.0157 - lr: 2.5000e-04\n",
      "learning_rate: 0.0002500000118743628\n",
      "Epoch 102/150\n",
      "2000/2000 [==============================] - 11s 5ms/step - loss: 0.0157 - lr: 2.5000e-04\n",
      "learning_rate: 0.0002500000118743628\n",
      "Epoch 103/150\n",
      "2000/2000 [==============================] - 11s 5ms/step - loss: 0.0157 - lr: 2.5000e-04\n",
      "learning_rate: 0.0002500000118743628\n",
      "Epoch 104/150\n",
      "2000/2000 [==============================] - 11s 5ms/step - loss: 0.0157 - lr: 2.5000e-04\n",
      "learning_rate: 0.0002500000118743628\n",
      "Epoch 105/150\n",
      "2000/2000 [==============================] - 10s 5ms/step - loss: 0.0157 - lr: 2.5000e-04\n",
      "learning_rate: 0.0002500000118743628\n",
      "Epoch 106/150\n",
      "2000/2000 [==============================] - 10s 5ms/step - loss: 0.0157 - lr: 2.5000e-04\n",
      "learning_rate: 0.0002500000118743628\n",
      "Epoch 107/150\n",
      "2000/2000 [==============================] - 10s 5ms/step - loss: 0.0157 - lr: 2.5000e-04\n",
      "learning_rate: 0.0002500000118743628\n",
      "Epoch 108/150\n",
      "2000/2000 [==============================] - 10s 5ms/step - loss: 0.0157 - lr: 2.5000e-04\n",
      "learning_rate: 0.0002500000118743628\n",
      "Epoch 109/150\n",
      "2000/2000 [==============================] - 10s 5ms/step - loss: 0.0157 - lr: 2.5000e-04\n",
      "learning_rate: 0.0002500000118743628\n",
      "Epoch 110/150\n",
      "2000/2000 [==============================] - 10s 5ms/step - loss: 0.0157 - lr: 2.5000e-04\n",
      "learning_rate: 0.0002500000118743628\n",
      "Epoch 111/150\n",
      "2000/2000 [==============================] - 10s 5ms/step - loss: 0.0157 - lr: 2.5000e-04\n",
      "learning_rate: 0.0002500000118743628\n",
      "Epoch 112/150\n",
      "2000/2000 [==============================] - 10s 5ms/step - loss: 0.0157 - lr: 2.5000e-04\n",
      "learning_rate: 0.0002500000118743628\n",
      "Epoch 113/150\n",
      "2000/2000 [==============================] - 11s 5ms/step - loss: 0.0157 - lr: 2.5000e-04\n",
      "learning_rate: 0.0002500000118743628\n",
      "Epoch 114/150\n",
      "2000/2000 [==============================] - 10s 5ms/step - loss: 0.0157 - lr: 2.5000e-04\n",
      "learning_rate: 0.0002500000118743628\n",
      "Epoch 115/150\n",
      "2000/2000 [==============================] - 11s 6ms/step - loss: 0.0157 - lr: 2.5000e-04\n",
      "learning_rate: 0.0002500000118743628\n",
      "Epoch 116/150\n",
      "2000/2000 [==============================] - 11s 5ms/step - loss: 0.0157 - lr: 2.5000e-04\n",
      "learning_rate: 0.0002500000118743628\n",
      "Epoch 117/150\n",
      "2000/2000 [==============================] - 10s 5ms/step - loss: 0.0157 - lr: 2.5000e-04\n",
      "learning_rate: 0.0002500000118743628\n",
      "Epoch 118/150\n",
      "2000/2000 [==============================] - 11s 5ms/step - loss: 0.0157 - lr: 2.5000e-04\n",
      "learning_rate: 0.0002500000118743628\n",
      "Epoch 119/150\n",
      "2000/2000 [==============================] - 11s 5ms/step - loss: 0.0157 - lr: 2.5000e-04\n",
      "learning_rate: 0.0002500000118743628\n",
      "Epoch 120/150\n",
      "2000/2000 [==============================] - 11s 5ms/step - loss: 0.0157 - lr: 2.5000e-04\n",
      "learning_rate: 0.0002500000118743628\n",
      "Epoch 121/150\n",
      "2000/2000 [==============================] - 11s 6ms/step - loss: 0.0157 - lr: 2.5000e-04\n",
      "learning_rate: 0.0002500000118743628\n",
      "Epoch 122/150\n",
      "2000/2000 [==============================] - 10s 5ms/step - loss: 0.0157 - lr: 2.5000e-04\n",
      "learning_rate: 0.0002500000118743628\n",
      "Epoch 123/150\n",
      "2000/2000 [==============================] - 10s 5ms/step - loss: 0.0156 - lr: 2.5000e-04\n",
      "learning_rate: 0.0002500000118743628\n",
      "Epoch 124/150\n",
      "2000/2000 [==============================] - 10s 5ms/step - loss: 0.0156 - lr: 2.5000e-04\n",
      "learning_rate: 0.0002500000118743628\n",
      "Epoch 125/150\n",
      "2000/2000 [==============================] - 10s 5ms/step - loss: 0.0156 - lr: 2.5000e-04\n",
      "learning_rate: 0.0002500000118743628\n",
      "Epoch 126/150\n",
      "2000/2000 [==============================] - 10s 5ms/step - loss: 0.0156 - lr: 2.5000e-04\n",
      "learning_rate: 0.0002500000118743628\n",
      "Epoch 127/150\n",
      "2000/2000 [==============================] - 10s 5ms/step - loss: 0.0156 - lr: 2.5000e-04\n",
      "learning_rate: 0.0002500000118743628\n",
      "Epoch 128/150\n",
      "2000/2000 [==============================] - 10s 5ms/step - loss: 0.0156 - lr: 2.5000e-04\n",
      "learning_rate: 0.0002500000118743628\n",
      "Epoch 129/150\n",
      "2000/2000 [==============================] - 10s 5ms/step - loss: 0.0156 - lr: 2.5000e-04\n",
      "learning_rate: 0.0002500000118743628\n",
      "Epoch 130/150\n",
      "2000/2000 [==============================] - 10s 5ms/step - loss: 0.0156 - lr: 2.5000e-04\n",
      "learning_rate: 0.0002500000118743628\n",
      "Epoch 131/150\n",
      "2000/2000 [==============================] - 10s 5ms/step - loss: 0.0156 - lr: 2.5000e-04\n",
      "learning_rate: 0.0002500000118743628\n",
      "Epoch 132/150\n",
      "2000/2000 [==============================] - 11s 6ms/step - loss: 0.0156 - lr: 2.5000e-04\n",
      "learning_rate: 0.0002500000118743628\n",
      "Epoch 133/150\n",
      "2000/2000 [==============================] - 12s 6ms/step - loss: 0.0156 - lr: 2.5000e-04\n",
      "learning_rate: 0.0002500000118743628\n",
      "Epoch 134/150\n",
      "2000/2000 [==============================] - 14s 7ms/step - loss: 0.0156 - lr: 2.5000e-04\n",
      "learning_rate: 0.0002500000118743628\n",
      "Epoch 135/150\n",
      "2000/2000 [==============================] - 12s 6ms/step - loss: 0.0156 - lr: 2.5000e-04\n",
      "learning_rate: 0.0002500000118743628\n",
      "Epoch 136/150\n",
      "2000/2000 [==============================] - 13s 6ms/step - loss: 0.0156 - lr: 2.5000e-04\n",
      "learning_rate: 0.0002500000118743628\n",
      "Epoch 137/150\n",
      "2000/2000 [==============================] - 13s 7ms/step - loss: 0.0156 - lr: 2.5000e-04\n",
      "learning_rate: 0.0002500000118743628\n",
      "Epoch 138/150\n",
      "2000/2000 [==============================] - 13s 6ms/step - loss: 0.0156 - lr: 2.5000e-04\n",
      "learning_rate: 0.0002500000118743628\n",
      "Epoch 139/150\n",
      "2000/2000 [==============================] - 12s 6ms/step - loss: 0.0156 - lr: 2.5000e-04\n",
      "learning_rate: 0.0002500000118743628\n",
      "Epoch 140/150\n",
      "2000/2000 [==============================] - 13s 6ms/step - loss: 0.0156 - lr: 2.5000e-04\n",
      "learning_rate: 0.0002500000118743628\n",
      "Epoch 141/150\n",
      "2000/2000 [==============================] - 14s 7ms/step - loss: 0.0156 - lr: 2.5000e-04\n",
      "learning_rate: 0.0002500000118743628\n",
      "Epoch 142/150\n",
      "2000/2000 [==============================] - 15s 8ms/step - loss: 0.0156 - lr: 2.5000e-04\n",
      "learning_rate: 0.0002500000118743628\n",
      "Epoch 143/150\n",
      "2000/2000 [==============================] - 17s 8ms/step - loss: 0.0156 - lr: 2.5000e-04\n",
      "learning_rate: 0.0002500000118743628\n",
      "Epoch 144/150\n",
      "2000/2000 [==============================] - 16s 8ms/step - loss: 0.0155 - lr: 2.5000e-04\n",
      "learning_rate: 0.0002500000118743628\n",
      "Epoch 145/150\n",
      "2000/2000 [==============================] - 15s 7ms/step - loss: 0.0156 - lr: 2.5000e-04\n",
      "learning_rate: 0.0002500000118743628\n",
      "Epoch 146/150\n",
      "2000/2000 [==============================] - 13s 6ms/step - loss: 0.0155 - lr: 2.5000e-04\n",
      "learning_rate: 0.0002500000118743628\n",
      "Epoch 147/150\n",
      "2000/2000 [==============================] - 12s 6ms/step - loss: 0.0155 - lr: 2.5000e-04\n",
      "learning_rate: 0.0002500000118743628\n",
      "Epoch 148/150\n",
      "2000/2000 [==============================] - 12s 6ms/step - loss: 0.0155 - lr: 2.5000e-04\n",
      "learning_rate: 0.0002500000118743628\n",
      "Epoch 149/150\n",
      "2000/2000 [==============================] - 14s 7ms/step - loss: 0.0155 - lr: 2.5000e-04\n",
      "learning_rate: 0.0002500000118743628\n",
      "Epoch 150/150\n",
      "2000/2000 [==============================] - 13s 7ms/step - loss: 0.0155 - lr: 2.5000e-04\n"
     ]
    }
   ],
   "source": [
    "history1 = model1.fit(haze_image, transmission_value, batch_size = 30, epochs = 150, callbacks=[LearningRateScheduler(lr_schedule)])"
   ]
  },
  {
   "cell_type": "markdown",
   "metadata": {
    "colab_type": "text",
    "id": "qSsRaWBh8bDo"
   },
   "source": [
    "**Generating Models and Graph**"
   ]
  },
  {
   "cell_type": "code",
   "execution_count": 12,
   "metadata": {
    "colab": {},
    "colab_type": "code",
    "id": "BqUy8Zwrv7Q8"
   },
   "outputs": [
    {
     "data": {
      "image/png": "[encoded data removed]",
      "text/plain": [
       "<Figure size 640x480 with 1 Axes>"
      ]
     },
     "metadata": {},
     "output_type": "display_data"
    },
    {
     "data": {
      "image/png": "[encoded data removed]",
      "text/plain": [
       "<Figure size 640x480 with 1 Axes>"
      ]
     },
     "metadata": {},
     "output_type": "display_data"
    }
   ],
   "source": [
    "plt.plot(history1.history['lr'])\n",
    "plt.title('model learning rate')\n",
    "plt.ylabel('learning rate')\n",
    "plt.xlabel('epoch')\n",
    "plt.legend(['train'], loc='upper right')\n",
    "plt.savefig('trans150-30-lr.png')\n",
    "plt.show()\n",
    "plt.plot(history1.history['loss'])\n",
    "plt.title('model loss')\n",
    "plt.ylabel('loss')\n",
    "plt.xlabel('epoch')\n",
    "plt.legend(['train'], loc='upper right')\n",
    "plt.savefig('trans150-30-loss.png')\n",
    "plt.show()"
   ]
  },
  {
   "cell_type": "code",
   "execution_count": 13,
   "metadata": {
    "colab": {},
    "colab_type": "code",
    "id": "IcdydzVGFiCv"
   },
   "outputs": [
    {
     "name": "stderr",
     "output_type": "stream",
     "text": [
      "C:\\Users\\adity\\AppData\\Local\\Programs\\Python\\Python311\\Lib\\site-packages\\keras\\src\\engine\\training.py:3103: UserWarning: You are saving your model as an HDF5 file via `model.save()`. This file format is considered legacy. We recommend using instead the native Keras format, e.g. `model.save('my_model.keras')`.\n",
      "  saving_api.save_model(\n"
     ]
    }
   ],
   "source": [
    "model1.save(\"transmodel_150_30.h5\")\n",
    "model1.save_weights('transmodel_150_30_weights.h5')"
   ]
  },
  {
   "cell_type": "code",
   "execution_count": 35,
   "metadata": {
    "colab": {
     "base_uri": "https://localhost:8080/",
     "height": 743
    },
    "colab_type": "code",
    "id": "SxISD69Cj6Jf",
    "outputId": "d0c8035d-018f-4391-da28-93114addc714"
   },
   "outputs": [
    {
     "name": "stdout",
     "output_type": "stream",
     "text": [
      "You must install pydot (`pip install pydot`) and install graphviz (see instructions at https://graphviz.gitlab.io/download/) for plot_model to work.\n",
      "You must install pydot (`pip install pydot`) and install graphviz (see instructions at https://graphviz.gitlab.io/download/) for plot_model to work.\n"
     ]
    }
   ],
   "source": [
    "plot_model(model1, 'trans_model.png')\n",
    "plot_model(model1, 'trans_model_shape.png', True)"
   ]
  },
  {
   "cell_type": "markdown",
   "metadata": {
    "colab_type": "text",
    "id": "Vg040EZW8ifC"
   },
   "source": [
    "**Predicting**"
   ]
  },
  {
   "cell_type": "code",
   "execution_count": 14,
   "metadata": {
    "colab": {
     "base_uri": "https://localhost:8080/",
     "height": 50
    },
    "colab_type": "code",
    "id": "cXA--Fsvp7fj",
    "outputId": "62317945-2d7f-414d-e902-011954f0d4c4"
   },
   "outputs": [
    {
     "name": "stdout",
     "output_type": "stream",
     "text": [
      "1/1 [==============================] - 0s 247ms/step\n",
      "[[[[0.3972692]]]]\n",
      "[[[0.6]]]\n"
     ]
    }
   ],
   "source": [
    "t = np.expand_dims(haze_image[500], axis=0)\n",
    "print(model1.predict(t))\n",
    "print(transmission_value[500])"
   ]
  }
 ],
 "metadata": {
  "accelerator": "GPU",
  "colab": {
   "collapsed_sections": [],
   "name": "Network Model-Transmission.ipynb",
   "provenance": []
  },
  "kernelspec": {
   "display_name": "Python 3 (ipykernel)",
   "language": "python",
   "name": "python3"
  },
  "language_info": {
   "codemirror_mode": {
    "name": "ipython",
    "version": 3
   },
   "file_extension": ".py",
   "mimetype": "text/x-python",
   "name": "python",
   "nbconvert_exporter": "python",
   "pygments_lexer": "ipython3",
   "version": "3.11.0"
  }
 },
 "nbformat": 4,
 "nbformat_minor": 4
}
